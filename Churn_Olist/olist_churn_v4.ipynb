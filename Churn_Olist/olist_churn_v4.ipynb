{
 "cells": [
  {
   "cell_type": "markdown",
   "id": "f7262c1d",
   "metadata": {},
   "source": [
    "# Problema de Classificação: Churn da empresa Olist"
   ]
  },
  {
   "cell_type": "markdown",
   "id": "1f999bac",
   "metadata": {},
   "source": [
    "O objetivo é fornecer uma solução para um problema da empresa Olist, baseado na detecção dos clientes mais propensos a não venderem nenhum produto futuramente.  \n",
    "Em termos técnicos, a empresa precisa de um **modelo preditivo de churn.**"
   ]
  },
  {
   "cell_type": "markdown",
   "id": "bdf075cb",
   "metadata": {},
   "source": [
    "O atual projeto foi dividido em 9 etapas, que são:\n",
    "\n",
    "**1. Entendimento do Negócio**  \n",
    "**2. Entendimento do problema**  \n",
    "**3. Obtenção dos dados**  \n",
    "**4. Exploração dos dados**  \n",
    "**5. Preparação dos dados**  \n",
    "**6. Modelagem e seleção de algoritmos**  \n",
    "**7. Aperfeiçoamento do modelo**  \n",
    "**8. Apresentação da solução**  \n",
    "**9. Implementação e monitoramento**\n",
    "\n",
    "\n"
   ]
  },
  {
   "cell_type": "markdown",
   "id": "fc04c37c",
   "metadata": {},
   "source": [
    "## 1. Entendimento do Negócio"
   ]
  },
  {
   "cell_type": "markdown",
   "id": "ace1fc26",
   "metadata": {},
   "source": [
    "<img src = data:image/png;base64,iVBORw0KGgoAAAANSUhEUgAAAMgAAADICAMAAACahl6sAAAAG1BMVEX///8MKdArRdbByPPi5vlcb9+CkeedqewbNtOZx5VwAAADFUlEQVR4nO2a6XrqIBQADWve/4mvxrAdUMj9CrXtzL9oAwzL4YC93QAAAAAAAAAAAAAAAAAAAAAAAAAAAAAAAAAAAADgj6K2E308mvC4fXO7LoPIp4HIp4HIE30ysYWDCJGbDYy9vj9fVvMaOIoUuUYYwB8von+LiPstIva3iKifJmK0e0QyJ+JsDNaLRLS36o513lTfyX1EBfL3jxn0jLQqlKEffxR3nfCWn2dh3L4lrKypvyFquxUod6jorYVbo3G0o5wdXREvCzgn0loRo3qV9URMowC7XMQ3K9tUtlQ6Iq2eUMun1guPwqQj0iri2diFIu2qDlJK2BGJX+/Oe3c8qXelzxBpro+qwo5IeDrH8BHBzrhnnHMxnu3uZEY+X0TNXdnSK9T4XiR2exT3xQYTPSe0P5CHG6vPRmQf/adIwRKRNCDZzuHih2FIBkX2OidYJJJalAfbzMSNiMQ1su2t5GOFSIqbZV+m9Tkkki20Rh61QiS2QB6+Y8ZhRkSKfURZMcFWiKjQYDm5o6EfEbmJjNEW8XWFSPDY5RdxlYyJVLtRPiorRF7NLBlRu9lvZZIt+5UiVRVXRe5jKFV8VdZ3TK24fIdF7tmIUAkLZcliD3W8XOx6WORWJgVpvi4NvyK5MDH8XhIRJ169TiTOIJFcOFH3hUtsnUbFrRPJUpT847TB2csiWQCzopJqJX4hWdKYxiTbqIeSxkc52YjG4ZQi1Ur8QrIT3O7SsUg0pSvimv1Qicz8gaRILpS1trjXGTtYHc9xB0xTy8m3D1szR8fUF1KJ0aPuszeU18bkV2Shxdn8tfae3s2ZYS8vUfJl816kdau1ZfFDVjHpWss1W7FduA56cX+Rsi0x6u2D5DST4Qu6FxcxWb/LIZl1ia1bLSmOR52pZXvvy/PKJJFGS8Thuxd+fdUV7m0F8+JwWZOSy7F/HilS312edkvVsGNNwrvHHrIr6+v+Cr/462cLjG78C4B2x+2euhfQbKd/fH0vfso9IwAAAAAAAAAAAAAAAAAAAAAAAAAAAAAAAAAAAAAAwEfzDxn7EjXv0SvIAAAAAElFTkSuQmCC>"
   ]
  },
  {
   "cell_type": "markdown",
   "id": "cd371530",
   "metadata": {},
   "source": [
    "A Olist é uma plataforma para vendas e-commerce. Ela permite que o vendedor tenha acesso a uma gama de marketplaces muito maior do que teria por conta própria, alavancando suas vendas online.\n",
    "\n",
    "É interessante para a Olist que os vendedores que usam a plataforma realizem vendas e prosperem, visto que os vendedores que não realizam vendas podem perder o interesse em usar a plataforma."
   ]
  },
  {
   "cell_type": "markdown",
   "id": "33550abb",
   "metadata": {},
   "source": [
    "## 2. Entendimento do Problema"
   ]
  },
  {
   "cell_type": "markdown",
   "id": "663831ae",
   "metadata": {},
   "source": [
    "A Olist precisa detectar os clientes mais propensos a não realizar vendas no futuro (próximos 6 meses). \n",
    "\n",
    "A ideia da empresa é oferecer cupons para os vendedores, para que eles possam realizar vendas e evitar eventuais quedas no faturamento da Olist."
   ]
  },
  {
   "cell_type": "markdown",
   "id": "40c8625a",
   "metadata": {},
   "source": [
    "**Resumo do problema**\n",
    "1. Detectar vendedores que não venderão nos próximos 6 meses;\n",
    "2. Problema de classificação - aprendizado supervisionado;\n",
    "3. Os clientes detectados pelo modelo receberão o cupom;\n",
    "4. Os dados históricos para construção do modelo são fornecidos pela empresa;\n",
    "5. Conseguimos avaliar o impacto financeiro de acordo com a quantidade de cupons fornecidos."
   ]
  },
  {
   "cell_type": "markdown",
   "id": "ed79f19c",
   "metadata": {},
   "source": [
    "## 3. Obtenção dos Dados"
   ]
  },
  {
   "cell_type": "markdown",
   "id": "ddb6450d",
   "metadata": {},
   "source": [
    "Os dados fornecidos pela Olist estão no diretório Kaggle: \n",
    "https://www.kaggle.com/datasets/olistbr/brazilian-ecommerce\n",
    "\n",
    "Como precisamos detectar os **vendedores** que não vão realizar vendas **(transações/pedidos)**, usaremos as informações de pedidos, de transações e de vendedores."
   ]
  },
  {
   "cell_type": "markdown",
   "id": "0c1ad71c",
   "metadata": {},
   "source": [
    "### 3.1 Preparação do ambiente"
   ]
  },
  {
   "cell_type": "code",
   "execution_count": 1,
   "id": "d0766989",
   "metadata": {},
   "outputs": [
    {
     "name": "stdout",
     "output_type": "stream",
     "text": [
      "Requirement already satisfied: xgboost in d:\\diego\\anaconda3\\lib\\site-packages (1.7.3)\n",
      "Requirement already satisfied: lightgbm in d:\\diego\\anaconda3\\lib\\site-packages (3.3.4)\n",
      "Requirement already satisfied: catboost in d:\\diego\\anaconda3\\lib\\site-packages (1.1.1)\n",
      "Requirement already satisfied: feature_engine in d:\\diego\\anaconda3\\lib\\site-packages (1.5.2)\n",
      "Requirement already satisfied: numpy in d:\\diego\\anaconda3\\lib\\site-packages (from xgboost) (1.21.5)\n",
      "Requirement already satisfied: scipy in d:\\diego\\anaconda3\\lib\\site-packages (from xgboost) (1.9.1)\n",
      "Requirement already satisfied: wheel in d:\\diego\\anaconda3\\lib\\site-packages (from lightgbm) (0.37.1)\n",
      "Requirement already satisfied: scikit-learn!=0.22.0 in d:\\diego\\anaconda3\\lib\\site-packages (from lightgbm) (1.0.2)\n",
      "Requirement already satisfied: matplotlib in d:\\diego\\anaconda3\\lib\\site-packages (from catboost) (3.5.2)\n",
      "Requirement already satisfied: plotly in d:\\diego\\anaconda3\\lib\\site-packages (from catboost) (5.9.0)\n",
      "Requirement already satisfied: graphviz in d:\\diego\\anaconda3\\lib\\site-packages (from catboost) (0.20.1)\n",
      "Requirement already satisfied: pandas>=0.24.0 in d:\\diego\\anaconda3\\lib\\site-packages (from catboost) (1.4.4)\n",
      "Requirement already satisfied: six in d:\\diego\\anaconda3\\lib\\site-packages (from catboost) (1.16.0)\n",
      "Requirement already satisfied: statsmodels>=0.11.1 in d:\\diego\\anaconda3\\lib\\site-packages (from feature_engine) (0.13.2)\n",
      "Requirement already satisfied: python-dateutil>=2.8.1 in d:\\diego\\anaconda3\\lib\\site-packages (from pandas>=0.24.0->catboost) (2.8.2)\n",
      "Requirement already satisfied: pytz>=2020.1 in d:\\diego\\anaconda3\\lib\\site-packages (from pandas>=0.24.0->catboost) (2022.1)\n",
      "Requirement already satisfied: joblib>=0.11 in d:\\diego\\anaconda3\\lib\\site-packages (from scikit-learn!=0.22.0->lightgbm) (1.1.0)\n",
      "Requirement already satisfied: threadpoolctl>=2.0.0 in d:\\diego\\anaconda3\\lib\\site-packages (from scikit-learn!=0.22.0->lightgbm) (2.2.0)\n",
      "Requirement already satisfied: patsy>=0.5.2 in d:\\diego\\anaconda3\\lib\\site-packages (from statsmodels>=0.11.1->feature_engine) (0.5.2)\n",
      "Requirement already satisfied: packaging>=21.3 in d:\\diego\\anaconda3\\lib\\site-packages (from statsmodels>=0.11.1->feature_engine) (21.3)\n",
      "Requirement already satisfied: fonttools>=4.22.0 in d:\\diego\\anaconda3\\lib\\site-packages (from matplotlib->catboost) (4.25.0)\n",
      "Requirement already satisfied: pyparsing>=2.2.1 in d:\\diego\\anaconda3\\lib\\site-packages (from matplotlib->catboost) (3.0.9)\n",
      "Requirement already satisfied: cycler>=0.10 in d:\\diego\\anaconda3\\lib\\site-packages (from matplotlib->catboost) (0.11.0)\n",
      "Requirement already satisfied: kiwisolver>=1.0.1 in d:\\diego\\anaconda3\\lib\\site-packages (from matplotlib->catboost) (1.4.2)\n",
      "Requirement already satisfied: pillow>=6.2.0 in d:\\diego\\anaconda3\\lib\\site-packages (from matplotlib->catboost) (9.2.0)\n",
      "Requirement already satisfied: tenacity>=6.2.0 in d:\\diego\\anaconda3\\lib\\site-packages (from plotly->catboost) (8.0.1)\n",
      "Note: you may need to restart the kernel to use updated packages.\n"
     ]
    }
   ],
   "source": [
    "pip install xgboost lightgbm catboost feature_engine"
   ]
  },
  {
   "cell_type": "markdown",
   "id": "4108d8c1",
   "metadata": {},
   "source": [
    "_(Antes de prosseguir, é necessário reiniciar o Kernel)_"
   ]
  },
  {
   "cell_type": "code",
   "execution_count": 1,
   "id": "da7293c8",
   "metadata": {},
   "outputs": [],
   "source": [
    "# Carregando as bibliotecas que são necessárias para o projeto:\n",
    "\n",
    "# !pip install os pandas numpy matplotlib\n",
    "# !pip install feature_engine\n",
    "# !pip install lightgbm xgboost catboost\n",
    "\n",
    "\n",
    "import os\n",
    "import pandas as pd\n",
    "import numpy as np\n",
    "import matplotlib.pyplot as plt\n",
    "\n",
    "import dateutil\n",
    "\n",
    "from sklearn.pipeline import Pipeline\n",
    "from feature_engine.imputation import ArbitraryNumberImputer, MeanMedianImputer\n",
    "from feature_engine.imputation import CategoricalImputer\n",
    "from feature_engine.encoding import OneHotEncoder\n",
    "from feature_engine.wrappers import SklearnTransformerWrapper\n",
    "from sklearn.preprocessing import StandardScaler\n",
    "\n",
    "from sklearn.tree import DecisionTreeClassifier\n",
    "from sklearn.ensemble import VotingClassifier\n",
    "from sklearn.svm import SVC\n",
    "\n",
    "from sklearn.ensemble import RandomForestClassifier, GradientBoostingClassifier\n",
    "from xgboost import XGBClassifier\n",
    "from lightgbm import LGBMClassifier\n",
    "from catboost import CatBoostClassifier\n",
    "\n",
    "from sklearn.model_selection import GridSearchCV\n",
    "\n",
    "import pickle\n"
   ]
  },
  {
   "cell_type": "markdown",
   "id": "18695456",
   "metadata": {},
   "source": [
    "### 3.2 Carregando os dados de pedidos"
   ]
  },
  {
   "cell_type": "code",
   "execution_count": 2,
   "id": "495a0be4",
   "metadata": {},
   "outputs": [],
   "source": [
    "datasets_input = r'D:\\diego\\OneDrive\\Documentos\\Data Science\\01_Projetos\\Olist\\input'"
   ]
  },
  {
   "cell_type": "code",
   "execution_count": 3,
   "id": "88adf533",
   "metadata": {},
   "outputs": [],
   "source": [
    "datasets_output = r'D:\\diego\\OneDrive\\Documentos\\Data Science\\01_Projetos\\Olist\\output'"
   ]
  },
  {
   "cell_type": "code",
   "execution_count": 4,
   "id": "1a4cc78b",
   "metadata": {},
   "outputs": [
    {
     "data": {
      "text/html": [
       "<div>\n",
       "<style scoped>\n",
       "    .dataframe tbody tr th:only-of-type {\n",
       "        vertical-align: middle;\n",
       "    }\n",
       "\n",
       "    .dataframe tbody tr th {\n",
       "        vertical-align: top;\n",
       "    }\n",
       "\n",
       "    .dataframe thead th {\n",
       "        text-align: right;\n",
       "    }\n",
       "</style>\n",
       "<table border=\"1\" class=\"dataframe\">\n",
       "  <thead>\n",
       "    <tr style=\"text-align: right;\">\n",
       "      <th></th>\n",
       "      <th>order_id</th>\n",
       "      <th>customer_id</th>\n",
       "      <th>order_status</th>\n",
       "      <th>order_purchase_timestamp</th>\n",
       "      <th>order_approved_at</th>\n",
       "      <th>order_delivered_carrier_date</th>\n",
       "      <th>order_delivered_customer_date</th>\n",
       "      <th>order_estimated_delivery_date</th>\n",
       "    </tr>\n",
       "  </thead>\n",
       "  <tbody>\n",
       "    <tr>\n",
       "      <th>0</th>\n",
       "      <td>e481f51cbdc54678b7cc49136f2d6af7</td>\n",
       "      <td>9ef432eb6251297304e76186b10a928d</td>\n",
       "      <td>delivered</td>\n",
       "      <td>2017-10-02 10:56:33</td>\n",
       "      <td>2017-10-02 11:07:15</td>\n",
       "      <td>2017-10-04 19:55:00</td>\n",
       "      <td>2017-10-10 21:25:13</td>\n",
       "      <td>2017-10-18 00:00:00</td>\n",
       "    </tr>\n",
       "    <tr>\n",
       "      <th>1</th>\n",
       "      <td>53cdb2fc8bc7dce0b6741e2150273451</td>\n",
       "      <td>b0830fb4747a6c6d20dea0b8c802d7ef</td>\n",
       "      <td>delivered</td>\n",
       "      <td>2018-07-24 20:41:37</td>\n",
       "      <td>2018-07-26 03:24:27</td>\n",
       "      <td>2018-07-26 14:31:00</td>\n",
       "      <td>2018-08-07 15:27:45</td>\n",
       "      <td>2018-08-13 00:00:00</td>\n",
       "    </tr>\n",
       "    <tr>\n",
       "      <th>2</th>\n",
       "      <td>47770eb9100c2d0c44946d9cf07ec65d</td>\n",
       "      <td>41ce2a54c0b03bf3443c3d931a367089</td>\n",
       "      <td>delivered</td>\n",
       "      <td>2018-08-08 08:38:49</td>\n",
       "      <td>2018-08-08 08:55:23</td>\n",
       "      <td>2018-08-08 13:50:00</td>\n",
       "      <td>2018-08-17 18:06:29</td>\n",
       "      <td>2018-09-04 00:00:00</td>\n",
       "    </tr>\n",
       "    <tr>\n",
       "      <th>3</th>\n",
       "      <td>949d5b44dbf5de918fe9c16f97b45f8a</td>\n",
       "      <td>f88197465ea7920adcdbec7375364d82</td>\n",
       "      <td>delivered</td>\n",
       "      <td>2017-11-18 19:28:06</td>\n",
       "      <td>2017-11-18 19:45:59</td>\n",
       "      <td>2017-11-22 13:39:59</td>\n",
       "      <td>2017-12-02 00:28:42</td>\n",
       "      <td>2017-12-15 00:00:00</td>\n",
       "    </tr>\n",
       "    <tr>\n",
       "      <th>4</th>\n",
       "      <td>ad21c59c0840e6cb83a9ceb5573f8159</td>\n",
       "      <td>8ab97904e6daea8866dbdbc4fb7aad2c</td>\n",
       "      <td>delivered</td>\n",
       "      <td>2018-02-13 21:18:39</td>\n",
       "      <td>2018-02-13 22:20:29</td>\n",
       "      <td>2018-02-14 19:46:34</td>\n",
       "      <td>2018-02-16 18:17:02</td>\n",
       "      <td>2018-02-26 00:00:00</td>\n",
       "    </tr>\n",
       "  </tbody>\n",
       "</table>\n",
       "</div>"
      ],
      "text/plain": [
       "                           order_id                       customer_id  \\\n",
       "0  e481f51cbdc54678b7cc49136f2d6af7  9ef432eb6251297304e76186b10a928d   \n",
       "1  53cdb2fc8bc7dce0b6741e2150273451  b0830fb4747a6c6d20dea0b8c802d7ef   \n",
       "2  47770eb9100c2d0c44946d9cf07ec65d  41ce2a54c0b03bf3443c3d931a367089   \n",
       "3  949d5b44dbf5de918fe9c16f97b45f8a  f88197465ea7920adcdbec7375364d82   \n",
       "4  ad21c59c0840e6cb83a9ceb5573f8159  8ab97904e6daea8866dbdbc4fb7aad2c   \n",
       "\n",
       "  order_status order_purchase_timestamp   order_approved_at  \\\n",
       "0    delivered      2017-10-02 10:56:33 2017-10-02 11:07:15   \n",
       "1    delivered      2018-07-24 20:41:37 2018-07-26 03:24:27   \n",
       "2    delivered      2018-08-08 08:38:49 2018-08-08 08:55:23   \n",
       "3    delivered      2017-11-18 19:28:06 2017-11-18 19:45:59   \n",
       "4    delivered      2018-02-13 21:18:39 2018-02-13 22:20:29   \n",
       "\n",
       "  order_delivered_carrier_date order_delivered_customer_date  \\\n",
       "0          2017-10-04 19:55:00           2017-10-10 21:25:13   \n",
       "1          2018-07-26 14:31:00           2018-08-07 15:27:45   \n",
       "2          2018-08-08 13:50:00           2018-08-17 18:06:29   \n",
       "3          2017-11-22 13:39:59           2017-12-02 00:28:42   \n",
       "4          2018-02-14 19:46:34           2018-02-16 18:17:02   \n",
       "\n",
       "  order_estimated_delivery_date  \n",
       "0           2017-10-18 00:00:00  \n",
       "1           2018-08-13 00:00:00  \n",
       "2           2018-09-04 00:00:00  \n",
       "3           2017-12-15 00:00:00  \n",
       "4           2018-02-26 00:00:00  "
      ]
     },
     "execution_count": 4,
     "metadata": {},
     "output_type": "execute_result"
    }
   ],
   "source": [
    "df_orders = pd.read_csv(os.path.join(datasets_input, 'olist_orders_dataset.csv'), parse_dates=['order_approved_at'])\n",
    "df_orders.head()"
   ]
  },
  {
   "cell_type": "markdown",
   "id": "aed90272",
   "metadata": {},
   "source": [
    "### 3.3 Carregando os dados de transações (items/pedido)"
   ]
  },
  {
   "cell_type": "code",
   "execution_count": 5,
   "id": "e07f95bb",
   "metadata": {},
   "outputs": [
    {
     "data": {
      "text/html": [
       "<div>\n",
       "<style scoped>\n",
       "    .dataframe tbody tr th:only-of-type {\n",
       "        vertical-align: middle;\n",
       "    }\n",
       "\n",
       "    .dataframe tbody tr th {\n",
       "        vertical-align: top;\n",
       "    }\n",
       "\n",
       "    .dataframe thead th {\n",
       "        text-align: right;\n",
       "    }\n",
       "</style>\n",
       "<table border=\"1\" class=\"dataframe\">\n",
       "  <thead>\n",
       "    <tr style=\"text-align: right;\">\n",
       "      <th></th>\n",
       "      <th>order_id</th>\n",
       "      <th>order_item_id</th>\n",
       "      <th>product_id</th>\n",
       "      <th>seller_id</th>\n",
       "      <th>shipping_limit_date</th>\n",
       "      <th>price</th>\n",
       "      <th>freight_value</th>\n",
       "    </tr>\n",
       "  </thead>\n",
       "  <tbody>\n",
       "    <tr>\n",
       "      <th>0</th>\n",
       "      <td>00010242fe8c5a6d1ba2dd792cb16214</td>\n",
       "      <td>1</td>\n",
       "      <td>4244733e06e7ecb4970a6e2683c13e61</td>\n",
       "      <td>48436dade18ac8b2bce089ec2a041202</td>\n",
       "      <td>2017-09-19 09:45:35</td>\n",
       "      <td>58.90</td>\n",
       "      <td>13.29</td>\n",
       "    </tr>\n",
       "    <tr>\n",
       "      <th>1</th>\n",
       "      <td>00018f77f2f0320c557190d7a144bdd3</td>\n",
       "      <td>1</td>\n",
       "      <td>e5f2d52b802189ee658865ca93d83a8f</td>\n",
       "      <td>dd7ddc04e1b6c2c614352b383efe2d36</td>\n",
       "      <td>2017-05-03 11:05:13</td>\n",
       "      <td>239.90</td>\n",
       "      <td>19.93</td>\n",
       "    </tr>\n",
       "    <tr>\n",
       "      <th>2</th>\n",
       "      <td>000229ec398224ef6ca0657da4fc703e</td>\n",
       "      <td>1</td>\n",
       "      <td>c777355d18b72b67abbeef9df44fd0fd</td>\n",
       "      <td>5b51032eddd242adc84c38acab88f23d</td>\n",
       "      <td>2018-01-18 14:48:30</td>\n",
       "      <td>199.00</td>\n",
       "      <td>17.87</td>\n",
       "    </tr>\n",
       "    <tr>\n",
       "      <th>3</th>\n",
       "      <td>00024acbcdf0a6daa1e931b038114c75</td>\n",
       "      <td>1</td>\n",
       "      <td>7634da152a4610f1595efa32f14722fc</td>\n",
       "      <td>9d7a1d34a5052409006425275ba1c2b4</td>\n",
       "      <td>2018-08-15 10:10:18</td>\n",
       "      <td>12.99</td>\n",
       "      <td>12.79</td>\n",
       "    </tr>\n",
       "    <tr>\n",
       "      <th>4</th>\n",
       "      <td>00042b26cf59d7ce69dfabb4e55b4fd9</td>\n",
       "      <td>1</td>\n",
       "      <td>ac6c3623068f30de03045865e4e10089</td>\n",
       "      <td>df560393f3a51e74553ab94004ba5c87</td>\n",
       "      <td>2017-02-13 13:57:51</td>\n",
       "      <td>199.90</td>\n",
       "      <td>18.14</td>\n",
       "    </tr>\n",
       "  </tbody>\n",
       "</table>\n",
       "</div>"
      ],
      "text/plain": [
       "                           order_id  order_item_id  \\\n",
       "0  00010242fe8c5a6d1ba2dd792cb16214              1   \n",
       "1  00018f77f2f0320c557190d7a144bdd3              1   \n",
       "2  000229ec398224ef6ca0657da4fc703e              1   \n",
       "3  00024acbcdf0a6daa1e931b038114c75              1   \n",
       "4  00042b26cf59d7ce69dfabb4e55b4fd9              1   \n",
       "\n",
       "                         product_id                         seller_id  \\\n",
       "0  4244733e06e7ecb4970a6e2683c13e61  48436dade18ac8b2bce089ec2a041202   \n",
       "1  e5f2d52b802189ee658865ca93d83a8f  dd7ddc04e1b6c2c614352b383efe2d36   \n",
       "2  c777355d18b72b67abbeef9df44fd0fd  5b51032eddd242adc84c38acab88f23d   \n",
       "3  7634da152a4610f1595efa32f14722fc  9d7a1d34a5052409006425275ba1c2b4   \n",
       "4  ac6c3623068f30de03045865e4e10089  df560393f3a51e74553ab94004ba5c87   \n",
       "\n",
       "   shipping_limit_date   price  freight_value  \n",
       "0  2017-09-19 09:45:35   58.90          13.29  \n",
       "1  2017-05-03 11:05:13  239.90          19.93  \n",
       "2  2018-01-18 14:48:30  199.00          17.87  \n",
       "3  2018-08-15 10:10:18   12.99          12.79  \n",
       "4  2017-02-13 13:57:51  199.90          18.14  "
      ]
     },
     "execution_count": 5,
     "metadata": {},
     "output_type": "execute_result"
    }
   ],
   "source": [
    "df_order_items = pd.read_csv(os.path.join(datasets_input, 'olist_order_items_dataset.csv'))\n",
    "df_order_items.head()"
   ]
  },
  {
   "cell_type": "markdown",
   "id": "aad65c43",
   "metadata": {},
   "source": [
    "### 3.4 Carregando os dados de vendedores"
   ]
  },
  {
   "cell_type": "code",
   "execution_count": 6,
   "id": "bf502055",
   "metadata": {},
   "outputs": [
    {
     "data": {
      "text/html": [
       "<div>\n",
       "<style scoped>\n",
       "    .dataframe tbody tr th:only-of-type {\n",
       "        vertical-align: middle;\n",
       "    }\n",
       "\n",
       "    .dataframe tbody tr th {\n",
       "        vertical-align: top;\n",
       "    }\n",
       "\n",
       "    .dataframe thead th {\n",
       "        text-align: right;\n",
       "    }\n",
       "</style>\n",
       "<table border=\"1\" class=\"dataframe\">\n",
       "  <thead>\n",
       "    <tr style=\"text-align: right;\">\n",
       "      <th></th>\n",
       "      <th>seller_id</th>\n",
       "      <th>seller_zip_code_prefix</th>\n",
       "      <th>seller_city</th>\n",
       "      <th>seller_state</th>\n",
       "    </tr>\n",
       "  </thead>\n",
       "  <tbody>\n",
       "    <tr>\n",
       "      <th>0</th>\n",
       "      <td>3442f8959a84dea7ee197c632cb2df15</td>\n",
       "      <td>13023</td>\n",
       "      <td>campinas</td>\n",
       "      <td>SP</td>\n",
       "    </tr>\n",
       "    <tr>\n",
       "      <th>1</th>\n",
       "      <td>d1b65fc7debc3361ea86b5f14c68d2e2</td>\n",
       "      <td>13844</td>\n",
       "      <td>mogi guacu</td>\n",
       "      <td>SP</td>\n",
       "    </tr>\n",
       "    <tr>\n",
       "      <th>2</th>\n",
       "      <td>ce3ad9de960102d0677a81f5d0bb7b2d</td>\n",
       "      <td>20031</td>\n",
       "      <td>rio de janeiro</td>\n",
       "      <td>RJ</td>\n",
       "    </tr>\n",
       "    <tr>\n",
       "      <th>3</th>\n",
       "      <td>c0f3eea2e14555b6faeea3dd58c1b1c3</td>\n",
       "      <td>4195</td>\n",
       "      <td>sao paulo</td>\n",
       "      <td>SP</td>\n",
       "    </tr>\n",
       "    <tr>\n",
       "      <th>4</th>\n",
       "      <td>51a04a8a6bdcb23deccc82b0b80742cf</td>\n",
       "      <td>12914</td>\n",
       "      <td>braganca paulista</td>\n",
       "      <td>SP</td>\n",
       "    </tr>\n",
       "  </tbody>\n",
       "</table>\n",
       "</div>"
      ],
      "text/plain": [
       "                          seller_id  seller_zip_code_prefix  \\\n",
       "0  3442f8959a84dea7ee197c632cb2df15                   13023   \n",
       "1  d1b65fc7debc3361ea86b5f14c68d2e2                   13844   \n",
       "2  ce3ad9de960102d0677a81f5d0bb7b2d                   20031   \n",
       "3  c0f3eea2e14555b6faeea3dd58c1b1c3                    4195   \n",
       "4  51a04a8a6bdcb23deccc82b0b80742cf                   12914   \n",
       "\n",
       "         seller_city seller_state  \n",
       "0           campinas           SP  \n",
       "1         mogi guacu           SP  \n",
       "2     rio de janeiro           RJ  \n",
       "3          sao paulo           SP  \n",
       "4  braganca paulista           SP  "
      ]
     },
     "execution_count": 6,
     "metadata": {},
     "output_type": "execute_result"
    }
   ],
   "source": [
    "df_sellers = pd.read_csv(os.path.join(datasets_input, 'olist_sellers_dataset.csv'))\n",
    "df_sellers.head()"
   ]
  },
  {
   "cell_type": "markdown",
   "id": "fcc283a2",
   "metadata": {},
   "source": [
    "## 4. Exploração dos Dados"
   ]
  },
  {
   "cell_type": "markdown",
   "id": "8c3291fe",
   "metadata": {},
   "source": [
    "Podemos explorar um pouco os dados, para conhecer as informações que temos disponíveis.\n",
    "Algumas perguntas que podem ajudar na resolução do problema:\n",
    "\n",
    "1. Quantos pedidos temos?\n",
    "2. Qual o tamanho do histórico disponível?\n",
    "3. Qual o percentual de pedidos concluídos (entregues ao cliente)?\n",
    "4. Temos dados faltantes em alguma das tabelas?"
   ]
  },
  {
   "cell_type": "code",
   "execution_count": 7,
   "id": "b129508f",
   "metadata": {},
   "outputs": [
    {
     "name": "stdout",
     "output_type": "stream",
     "text": [
      "Total de Pedidos: 99441\n"
     ]
    }
   ],
   "source": [
    "# 1. Quantos pedidos temos?\n",
    "print(f\"Total de Pedidos: {df_orders['order_id'].nunique()}\")"
   ]
  },
  {
   "cell_type": "code",
   "execution_count": 8,
   "id": "26437537",
   "metadata": {},
   "outputs": [
    {
     "data": {
      "text/html": [
       "<div>\n",
       "<style scoped>\n",
       "    .dataframe tbody tr th:only-of-type {\n",
       "        vertical-align: middle;\n",
       "    }\n",
       "\n",
       "    .dataframe tbody tr th {\n",
       "        vertical-align: top;\n",
       "    }\n",
       "\n",
       "    .dataframe thead th {\n",
       "        text-align: right;\n",
       "    }\n",
       "</style>\n",
       "<table border=\"1\" class=\"dataframe\">\n",
       "  <thead>\n",
       "    <tr style=\"text-align: right;\">\n",
       "      <th></th>\n",
       "      <th>order_approved_at</th>\n",
       "    </tr>\n",
       "  </thead>\n",
       "  <tbody>\n",
       "    <tr>\n",
       "      <th>max</th>\n",
       "      <td>2018-09-03 17:40:06</td>\n",
       "    </tr>\n",
       "    <tr>\n",
       "      <th>min</th>\n",
       "      <td>2016-09-15 12:16:38</td>\n",
       "    </tr>\n",
       "  </tbody>\n",
       "</table>\n",
       "</div>"
      ],
      "text/plain": [
       "      order_approved_at\n",
       "max 2018-09-03 17:40:06\n",
       "min 2016-09-15 12:16:38"
      ]
     },
     "execution_count": 8,
     "metadata": {},
     "output_type": "execute_result"
    }
   ],
   "source": [
    "# 2. Qual o tamanho do histórico disponível?\n",
    "\n",
    "df_orders.agg({'order_approved_at': ['max', 'min']})"
   ]
  },
  {
   "cell_type": "markdown",
   "id": "395855b1",
   "metadata": {},
   "source": [
    "Temos um histórico de 2 anos disponível."
   ]
  },
  {
   "cell_type": "code",
   "execution_count": 9,
   "id": "efb8d399",
   "metadata": {},
   "outputs": [
    {
     "data": {
      "text/plain": [
       "delivered      0.970203\n",
       "shipped        0.011132\n",
       "canceled       0.006285\n",
       "unavailable    0.006124\n",
       "invoiced       0.003158\n",
       "processing     0.003027\n",
       "created        0.000050\n",
       "approved       0.000020\n",
       "Name: order_status, dtype: float64"
      ]
     },
     "execution_count": 9,
     "metadata": {},
     "output_type": "execute_result"
    }
   ],
   "source": [
    "# 3. Qual o percentual de pedidos concluídos (entregues ao cliente)?\n",
    "\n",
    "df_orders['order_status'].value_counts(1)"
   ]
  },
  {
   "cell_type": "markdown",
   "id": "6b8f2cae",
   "metadata": {},
   "source": [
    "97% dos pedidos foram concluídos."
   ]
  },
  {
   "cell_type": "code",
   "execution_count": 10,
   "id": "f618ab0b",
   "metadata": {},
   "outputs": [
    {
     "data": {
      "text/plain": [
       "order_id                            0\n",
       "customer_id                         0\n",
       "order_status                        0\n",
       "order_purchase_timestamp            0\n",
       "order_approved_at                 160\n",
       "order_delivered_carrier_date     1783\n",
       "order_delivered_customer_date    2965\n",
       "order_estimated_delivery_date       0\n",
       "dtype: int64"
      ]
     },
     "execution_count": 10,
     "metadata": {},
     "output_type": "execute_result"
    }
   ],
   "source": [
    "# 4. Temos dados faltantes em alguma das tabelas?\n",
    "\n",
    "df_orders.isnull().sum()"
   ]
  },
  {
   "cell_type": "code",
   "execution_count": 11,
   "id": "21bebd8a",
   "metadata": {},
   "outputs": [
    {
     "data": {
      "text/plain": [
       "order_id               0\n",
       "order_item_id          0\n",
       "product_id             0\n",
       "seller_id              0\n",
       "shipping_limit_date    0\n",
       "price                  0\n",
       "freight_value          0\n",
       "dtype: int64"
      ]
     },
     "execution_count": 11,
     "metadata": {},
     "output_type": "execute_result"
    }
   ],
   "source": [
    "df_order_items.isnull().sum()"
   ]
  },
  {
   "cell_type": "code",
   "execution_count": 12,
   "id": "f8ae9a29",
   "metadata": {},
   "outputs": [
    {
     "data": {
      "text/plain": [
       "seller_id                 0\n",
       "seller_zip_code_prefix    0\n",
       "seller_city               0\n",
       "seller_state              0\n",
       "dtype: int64"
      ]
     },
     "execution_count": 12,
     "metadata": {},
     "output_type": "execute_result"
    }
   ],
   "source": [
    "df_sellers.isnull().sum()"
   ]
  },
  {
   "cell_type": "markdown",
   "id": "acba7915",
   "metadata": {},
   "source": [
    "Temos dados faltantes na tabela de pedidos."
   ]
  },
  {
   "cell_type": "markdown",
   "id": "5672d3d9",
   "metadata": {},
   "source": [
    "## 5. Preparação dos Dados"
   ]
  },
  {
   "cell_type": "markdown",
   "id": "69e7da59",
   "metadata": {},
   "source": [
    "O primeiro passo de preparação será juntar as informações em uma única tabela. O objetivo é montar uma ABT (Analytical Base Table), que será o nosso dataset de treinamento.\n",
    "\n",
    "Como o objetivo do modelo é prever o vendedor que não realizará uma venda, cada instância da tabela precisará ser um vendedor (seller_id).\n",
    "\n",
    "Será necessário cruzar as informações pela mais baixa granularidade possível e depois agrupar por vendedor.\n",
    "\n",
    "Vamos utilizar um histórico de **18 meses**, sendo 12 meses de atributos (features) e 6 meses para a variável resposta se o vendedor vendeu ou não (target).\n",
    "\n",
    "O modelo precisará trabalhar no conceito de \"safra\", cada uma delas contendo os 18 meses citados acima. Isso é importante para detectar o comportamento de cada vendedor, que pode se alterar ao longo do tempo.\n",
    "\n",
    "**Construção de features:** Algumas informações interessantes não estão necessariamente prontas nas bases de dados. Por exemplo: _Qual a localização do vendedor? Quantas vendas o vendedor realizou no período? Qual foi a receita obtida? Quando ele vendeu pela última vez? Quanto tempo faz que ele não realiza uma venda?_ Essas questões podem ajudar a responder o problema de Negócio, sendo interessante manipular os dados e criar essas variáveis (features) para que o algoritmo possa utilizar na modelagem. Para isso, usaremos os 12 meses anteriores ao mês de referência da safra.\n",
    "\n",
    "**Construção da variável target:** Ainda não temos nenhum rótulo pronto que indique se o vendedor realizou ou não uma venda nos 6 meses seguintes. Para o nosso problema de aprendizado supervisionado, precisamos construir essa variável-alvo que corresponde ao \"churn\". Ela será feita utilizando os 6 meses seguintes ao mês de referência da safra."
   ]
  },
  {
   "cell_type": "markdown",
   "id": "03af6705",
   "metadata": {},
   "source": [
    "### 5.1 Criação da base de modelagem"
   ]
  },
  {
   "cell_type": "code",
   "execution_count": 13,
   "id": "dfd4011c",
   "metadata": {},
   "outputs": [
    {
     "name": "stdout",
     "output_type": "stream",
     "text": [
      "Safra: 2017-10-01; Data inicial: 2016-10-01; Data final: 2018-04-01\n",
      "Safra: 2017-11-01; Data inicial: 2016-11-01; Data final: 2018-05-01\n",
      "Safra: 2017-12-01; Data inicial: 2016-12-01; Data final: 2018-06-01\n",
      "Safra: 2018-01-01; Data inicial: 2017-01-01; Data final: 2018-07-01\n",
      "Safra: 2018-02-01; Data inicial: 2017-02-01; Data final: 2018-08-01\n",
      "Safra: 2018-03-01; Data inicial: 2017-03-01; Data final: 2018-09-01\n"
     ]
    }
   ],
   "source": [
    "df_abt_safras = pd.DataFrame()\n",
    "\n",
    "safras = [\n",
    "    '2017-10-01', '2017-11-01', '2017-12-01',\n",
    "    '2018-01-01', '2018-02-01', '2018-03-01'\n",
    "]  # Determina as safras de treinamento\n",
    " \n",
    "for safra in safras:\n",
    "    data_ref_safra = pd.to_datetime(safra).date()\n",
    "    data_ini_inclusiva = data_ref_safra - dateutil.relativedelta.relativedelta(months=12)      # 12 meses de histórico\n",
    "    data_fim_exclusiva = data_ref_safra + dateutil.relativedelta.relativedelta(months=6)       # 6 meses de previsão\n",
    "    print(f\"Safra: {data_ref_safra}; Data inicial: {data_ini_inclusiva}; Data final: {data_fim_exclusiva}\")\n",
    "\n",
    "    # Selecionando o período histórico de cada safra\n",
    "    df_historico_abt_train = (\n",
    "        df_order_items\n",
    "        .merge(df_orders, on='order_id', how='inner')\n",
    "        .query(\"order_status == 'delivered'\")\n",
    "        .query(f\"order_approved_at >= '{data_ini_inclusiva}' & order_approved_at < '{data_fim_exclusiva}' \")\n",
    "        .merge(df_sellers, on='seller_id', how='left')\n",
    "    )\n",
    "    \n",
    "    # Construção das features\n",
    "    df_features_train = (\n",
    "        df_historico_abt_train\n",
    "        .query(f\"order_approved_at < '{data_ref_safra}'\")       # pega o \"passado\" da safra\n",
    "        .groupby('seller_id')                                   # cada instância da base de modelagem é um vendedor\n",
    "        .agg(\n",
    "            uf = ('seller_state', 'first'),                     # UF do vendedor\n",
    "            tot_orders_12m = ('order_id', 'nunique'),           # total de pedidos\n",
    "            tot_items_12m = ('product_id', 'count'),            # quantidade total de itens vendidos\n",
    "            tot_items_dist_12m = ('product_id', 'nunique'),     # quantidade de itens distintos vendidos\n",
    "            receita_12m = ('price', 'sum'),                     # receita obtida nos 12m \n",
    "            data_ult_vnd = ('order_approved_at', 'max')         # data da última venda\n",
    "        )\n",
    "        .reset_index()\n",
    "        .assign(data_ref = pd.to_datetime(f'{data_ref_safra}'))\n",
    "        .assign(recencia = lambda df: (df['data_ref'] - df['data_ult_vnd']).dt.days)  # Há quantos dias ele não realiza uma venda\n",
    "    )\n",
    "\n",
    "    # Construção do target\n",
    "    df_target = (\n",
    "        df_historico_abt_train\n",
    "        .query(f\"order_approved_at >= '{data_ref_safra}' & order_approved_at < '{data_fim_exclusiva}' \")  # 6 meses do \"futuro\"\n",
    "        .filter(['seller_id'])                                                                            # basta saber se o vendedor realizou alguma venda\n",
    "        .drop_duplicates()\n",
    "    )\n",
    "\n",
    "    # Juntando features e target\n",
    "    df_abt_train =(\n",
    "        df_features_train                                                                       # partindo da tabela de features\n",
    "        .merge(df_target, how='left', on='seller_id', indicator=True)                           # cruza com a tabela do target (\"ensino a resposta\")\n",
    "        .assign(churn = lambda df: np.where(df['_merge'] == 'left_only', 1, 0))                 # cria o target binário, sendo 1 para quem não realizou uma venda e 0 para quem realizou \n",
    "        .filter([                                                                               # filtra as variáveis de interesse\n",
    "            'data_ref',\n",
    "            'seller_id',\n",
    "            'uf',\n",
    "            'tot_orders_12m',\n",
    "            'tot_items_12m',\n",
    "            'tot_items_dist_12m',\n",
    "            'receita_12m',\n",
    "            'recencia',\n",
    "            'churn'\n",
    "        ])\n",
    "    )\n",
    "    \n",
    "    # Empilha a safra no Dataframe chamado df_abt_safras\n",
    "    df_abt_safras = pd.concat([df_abt_safras, df_abt_train])\n"
   ]
  },
  {
   "cell_type": "markdown",
   "id": "ccf02645",
   "metadata": {},
   "source": [
    "### 5.2 Exploração da base de modelagem"
   ]
  },
  {
   "cell_type": "markdown",
   "id": "553bf5c7",
   "metadata": {},
   "source": [
    "Primeiramente, vamos checar quantas instâncias (observações) temos em cada uma das safras de treinamento:"
   ]
  },
  {
   "cell_type": "code",
   "execution_count": 14,
   "id": "d784109a",
   "metadata": {},
   "outputs": [
    {
     "data": {
      "text/html": [
       "<div>\n",
       "<style scoped>\n",
       "    .dataframe tbody tr th:only-of-type {\n",
       "        vertical-align: middle;\n",
       "    }\n",
       "\n",
       "    .dataframe tbody tr th {\n",
       "        vertical-align: top;\n",
       "    }\n",
       "\n",
       "    .dataframe thead th {\n",
       "        text-align: right;\n",
       "    }\n",
       "</style>\n",
       "<table border=\"1\" class=\"dataframe\">\n",
       "  <thead>\n",
       "    <tr style=\"text-align: right;\">\n",
       "      <th></th>\n",
       "      <th>safra</th>\n",
       "      <th>vendedores</th>\n",
       "    </tr>\n",
       "  </thead>\n",
       "  <tbody>\n",
       "    <tr>\n",
       "      <th>0</th>\n",
       "      <td>2018-03-01</td>\n",
       "      <td>1874</td>\n",
       "    </tr>\n",
       "    <tr>\n",
       "      <th>1</th>\n",
       "      <td>2018-02-01</td>\n",
       "      <td>1805</td>\n",
       "    </tr>\n",
       "    <tr>\n",
       "      <th>2</th>\n",
       "      <td>2018-01-01</td>\n",
       "      <td>1690</td>\n",
       "    </tr>\n",
       "    <tr>\n",
       "      <th>3</th>\n",
       "      <td>2017-12-01</td>\n",
       "      <td>1602</td>\n",
       "    </tr>\n",
       "    <tr>\n",
       "      <th>4</th>\n",
       "      <td>2017-11-01</td>\n",
       "      <td>1415</td>\n",
       "    </tr>\n",
       "    <tr>\n",
       "      <th>5</th>\n",
       "      <td>2017-10-01</td>\n",
       "      <td>1304</td>\n",
       "    </tr>\n",
       "  </tbody>\n",
       "</table>\n",
       "</div>"
      ],
      "text/plain": [
       "       safra  vendedores\n",
       "0 2018-03-01        1874\n",
       "1 2018-02-01        1805\n",
       "2 2018-01-01        1690\n",
       "3 2017-12-01        1602\n",
       "4 2017-11-01        1415\n",
       "5 2017-10-01        1304"
      ]
     },
     "execution_count": 14,
     "metadata": {},
     "output_type": "execute_result"
    }
   ],
   "source": [
    "resumo_safras = pd.DataFrame(df_abt_safras['data_ref'].value_counts().reset_index()).rename(\n",
    "    columns={\"index\": \"safra\", \"data_ref\": \"vendedores\"})\n",
    "resumo_safras"
   ]
  },
  {
   "cell_type": "markdown",
   "id": "f4cdbf0a",
   "metadata": {},
   "source": [
    "Como utilizaremos um horizonte de 18 meses e temos 2 anos de histórico, temos 6 safras completas na base de dados.\n",
    "\n",
    "As safras mais novas possuem mais registros, o que pode indicar que a Olist vem expandindo o negócio (maior quantidade de vendedores usando a plataforma a cada mês)."
   ]
  },
  {
   "cell_type": "code",
   "execution_count": 15,
   "id": "bb0f4642",
   "metadata": {},
   "outputs": [
    {
     "data": {
      "image/png": "[encoded data removed]",
      "text/plain": [
       "<Figure size 900x300 with 1 Axes>"
      ]
     },
     "metadata": {},
     "output_type": "display_data"
    }
   ],
   "source": [
    "plt.figure(figsize=(9,3))\n",
    "plt.bar(resumo_safras['safra'], resumo_safras['vendedores'], color='blue', width=20)\n",
    "plt.xticks(resumo_safras['safra'])\n",
    "plt.ylabel('Vendedores')\n",
    "plt.title('Vendedores por safra')\n",
    "plt.show()\n"
   ]
  },
  {
   "cell_type": "markdown",
   "id": "106596ab",
   "metadata": {},
   "source": [
    "Depois, vamos checar a distribuição da variável target _churn_ em cada uma das safras de treinamento. Isso é importante para ver o quão balanceado ou desbalanceado é o nosso conjunto de dados de treino:"
   ]
  },
  {
   "cell_type": "code",
   "execution_count": 16,
   "id": "436537d0",
   "metadata": {},
   "outputs": [
    {
     "data": {
      "text/html": [
       "<div>\n",
       "<style scoped>\n",
       "    .dataframe tbody tr th:only-of-type {\n",
       "        vertical-align: middle;\n",
       "    }\n",
       "\n",
       "    .dataframe tbody tr th {\n",
       "        vertical-align: top;\n",
       "    }\n",
       "\n",
       "    .dataframe thead th {\n",
       "        text-align: right;\n",
       "    }\n",
       "</style>\n",
       "<table border=\"1\" class=\"dataframe\">\n",
       "  <thead>\n",
       "    <tr style=\"text-align: right;\">\n",
       "      <th></th>\n",
       "      <th>proporcao_churn</th>\n",
       "    </tr>\n",
       "    <tr>\n",
       "      <th>data_ref</th>\n",
       "      <th></th>\n",
       "    </tr>\n",
       "  </thead>\n",
       "  <tbody>\n",
       "    <tr>\n",
       "      <th>2017-10-01</th>\n",
       "      <td>0.332822</td>\n",
       "    </tr>\n",
       "    <tr>\n",
       "      <th>2017-11-01</th>\n",
       "      <td>0.327915</td>\n",
       "    </tr>\n",
       "    <tr>\n",
       "      <th>2017-12-01</th>\n",
       "      <td>0.350187</td>\n",
       "    </tr>\n",
       "    <tr>\n",
       "      <th>2018-01-01</th>\n",
       "      <td>0.376331</td>\n",
       "    </tr>\n",
       "    <tr>\n",
       "      <th>2018-02-01</th>\n",
       "      <td>0.385596</td>\n",
       "    </tr>\n",
       "    <tr>\n",
       "      <th>2018-03-01</th>\n",
       "      <td>0.384739</td>\n",
       "    </tr>\n",
       "  </tbody>\n",
       "</table>\n",
       "</div>"
      ],
      "text/plain": [
       "            proporcao_churn\n",
       "data_ref                   \n",
       "2017-10-01         0.332822\n",
       "2017-11-01         0.327915\n",
       "2017-12-01         0.350187\n",
       "2018-01-01         0.376331\n",
       "2018-02-01         0.385596\n",
       "2018-03-01         0.384739"
      ]
     },
     "execution_count": 16,
     "metadata": {},
     "output_type": "execute_result"
    }
   ],
   "source": [
    "# Como é uma variável 0 ou 1, a média é o mesmo que a proporção de 1\n",
    "df_abt_safras.groupby('data_ref').agg(proporcao_churn=('churn', 'mean'))"
   ]
  },
  {
   "cell_type": "markdown",
   "id": "2978ac9e",
   "metadata": {},
   "source": [
    "É possível notar que a proporção de \"churn\" vem aumentando, o que pode ter motivado a busca para uma solução preditiva."
   ]
  },
  {
   "cell_type": "markdown",
   "id": "5b1158ec",
   "metadata": {},
   "source": [
    "É importante checar se ainda resta algum dado faltante na base de modelagem:"
   ]
  },
  {
   "cell_type": "code",
   "execution_count": 17,
   "id": "405a3c84",
   "metadata": {},
   "outputs": [
    {
     "data": {
      "text/plain": [
       "data_ref              0\n",
       "seller_id             0\n",
       "uf                    0\n",
       "tot_orders_12m        0\n",
       "tot_items_12m         0\n",
       "tot_items_dist_12m    0\n",
       "receita_12m           0\n",
       "recencia              0\n",
       "churn                 0\n",
       "dtype: int64"
      ]
     },
     "execution_count": 17,
     "metadata": {},
     "output_type": "execute_result"
    }
   ],
   "source": [
    "df_abt_safras.isnull().sum()"
   ]
  },
  {
   "cell_type": "markdown",
   "id": "2024c1ef",
   "metadata": {},
   "source": [
    "Por fim, vamos salvar a ABT, em formato csv, para armazenar o trabalho feito até aqui:"
   ]
  },
  {
   "cell_type": "code",
   "execution_count": 18,
   "id": "3a406062",
   "metadata": {},
   "outputs": [],
   "source": [
    "df_abt_safras.to_csv('olist_churn_abt.csv', index=False)"
   ]
  },
  {
   "cell_type": "markdown",
   "id": "aae7e1a6",
   "metadata": {},
   "source": [
    "## 6. Modelagem e Seleção de Algoritmos"
   ]
  },
  {
   "cell_type": "markdown",
   "id": "8fcceed5",
   "metadata": {},
   "source": [
    "### 6.1 Separação entre dados de treinamento e dados de teste"
   ]
  },
  {
   "cell_type": "markdown",
   "id": "0369aee4",
   "metadata": {},
   "source": [
    "É importante notar que esse problema de negócios leva em consideração uma variável muito importante: **o tempo**. \n",
    "\n",
    "O objetivo do modelo é identificar quais vendedores não realizarão nenhuma venda nos próximos 6 meses (ou os mais propensos a não realizar). \n",
    "\n",
    "Dessa forma, a divisão do conjunto de dados em treino e teste convencional (usando uma proporção, ou o método _train_test_split_ da biblioteca _scikit-learn_) não parece adequado.\n",
    "\n",
    "O ideal é treinar e validar o modelo da **forma mais parecida possível com a qual ele será usado na vida real**, em produção. \n",
    "Pensando nisso, usaremos a técnica Out Of Time (OOT), treinando o modelo em nas safras mais antigas e validando na safra mais nova."
   ]
  },
  {
   "cell_type": "code",
   "execution_count": 19,
   "id": "1ae01676",
   "metadata": {},
   "outputs": [],
   "source": [
    "# Separando a abt em treino e teste\n",
    "\n",
    "df_abt = df_abt_safras \n",
    "\n",
    "df_train = df_abt.query('data_ref < \"2018-03-01\"')\n",
    "\n",
    "df_oot = df_abt.query('data_ref == \"2018-03-01\"')"
   ]
  },
  {
   "cell_type": "markdown",
   "id": "01ee638a",
   "metadata": {},
   "source": [
    "### 6.2 Identificando as variáveis de modelagem"
   ]
  },
  {
   "cell_type": "markdown",
   "id": "42435580",
   "metadata": {},
   "source": [
    "Antes de aplicar um algoritmo de aprendizado de máquina, precisamos identificar e tratar as variáveis que serão utilizadas para modelagem. Começaremos separando variáveis por tipo."
   ]
  },
  {
   "cell_type": "code",
   "execution_count": 20,
   "id": "2a7543d0",
   "metadata": {},
   "outputs": [],
   "source": [
    "# Variáveis chaves da tabela\n",
    "key_vars = ['data_ref', 'seller_id']\n",
    "\n",
    "# Variáveis numéricas\n",
    "num_vars = ['tot_orders_12m', 'tot_items_12m', 'tot_items_dist_12m', 'receita_12m', 'recencia']\n",
    "\n",
    "# Variáveis categóricas\n",
    "cat_vars = ['uf']\n",
    "\n",
    "# Consolidando as features\n",
    "features = cat_vars + num_vars\n",
    "\n",
    "# Variável resposta (target)\n",
    "target = 'churn'\n",
    "\n",
    "# Conjunto de dados de treinamento\n",
    "X_train = df_train[features]\n",
    "y_train = df_train[target]\n",
    "\n",
    "# Conjunto de dados de teste (Out Of Time)\n",
    "X_oot = df_oot[features]\n",
    "y_oot = df_oot[target]\n"
   ]
  },
  {
   "cell_type": "code",
   "execution_count": 21,
   "id": "aa2d3072",
   "metadata": {},
   "outputs": [
    {
     "name": "stdout",
     "output_type": "stream",
     "text": [
      "(7816, 6) (7816,)\n",
      "(1874, 6) (1874,)\n"
     ]
    }
   ],
   "source": [
    "print(X_train.shape, y_train.shape)\n",
    "print(X_oot.shape, y_oot.shape)"
   ]
  },
  {
   "cell_type": "markdown",
   "id": "2fa3e07d",
   "metadata": {},
   "source": [
    "### 6.3 Feature Engineering"
   ]
  },
  {
   "cell_type": "markdown",
   "id": "778f4cd7",
   "metadata": {},
   "source": [
    "Após identificar e separar os tipos de variáveis e criar os conjuntos de treino e teste, vamos aplicar transformações que tornem esses conjuntos de dados adequados para modelagem. \n",
    "\n",
    "Vamos criar e automatizar um **pipeline de dados**, onde faremos o tratamento de dados faltantes, ajustaremos a escala das variáveis numéricas e faremos o encoding das variáveis categóricas."
   ]
  },
  {
   "cell_type": "code",
   "execution_count": 24,
   "id": "05c96338",
   "metadata": {},
   "outputs": [
    {
     "data": {
      "image/png": "[encoded data removed]",
      "text/plain": [
       "<Figure size 640x480 with 6 Axes>"
      ]
     },
     "metadata": {},
     "output_type": "display_data"
    }
   ],
   "source": [
    "# Checando a distribuição das variáveis numéricas, para decidir o melhor método de imputação de valores faltantes:\n",
    "X_train.hist(bins=100);\n"
   ]
  },
  {
   "cell_type": "code",
   "execution_count": 25,
   "id": "7db4d1a8",
   "metadata": {},
   "outputs": [
    {
     "data": {
      "image/png": "[encoded data removed]",
      "text/plain": [
       "<Figure size 640x480 with 1 Axes>"
      ]
     },
     "metadata": {},
     "output_type": "display_data"
    }
   ],
   "source": [
    "plt.boxplot(X_train['recencia']);"
   ]
  },
  {
   "cell_type": "markdown",
   "id": "b88c41fd",
   "metadata": {},
   "source": [
    "Observando as distribuições, vemos que quase todas as variáveis possuem uma concentração muito grande em valores \"baixos\", próximos de zero. \n",
    "\n",
    "Mas a variável **recencia** é mais dispersa e parece possuir outliers, o que nos leva a crer que a mediana é mais adequada.\n",
    "\n",
    "Logo, as transformações que faremos consistem em:\n",
    "- Tratar valores faltantes nas variáveis categóricas, substituindo pela palavra \"na\";\n",
    "- Tratar valores faltantes nas variáveis numéricas, substituindo pela mediana;\n",
    "- Ajustar a escala das variáveis numéricas, usando o método de padronização;\n",
    "- Transformar as variáveis categóricas em variáveis dummy (binárias);\n",
    "\n",
    "Outros métodos de transformação podem ser aplicados, de acordo com o algoritmo de aprendizado de máquina escolhido."
   ]
  },
  {
   "cell_type": "markdown",
   "id": "bfa40d19",
   "metadata": {},
   "source": [
    "### 6.4 Selecionando um algoritmo baseline"
   ]
  },
  {
   "cell_type": "markdown",
   "id": "a1e3ec53",
   "metadata": {},
   "source": [
    "Um passo interessante é criar um modelo inicial, com a **solução mais simples possível.** Esse modelo servirá como parâmetro para avaliarmos os ganhos na seleção dos algoritmos.\n",
    "\n",
    "Em problemas de regressão, uma alternativa seria usar uma regressão linear, ou mesmo a média da variável target.\n",
    "\n",
    "No nosso caso, como se trata de um problema de classificação binário, vamos usar uma **regressão logística.**"
   ]
  },
  {
   "cell_type": "code",
   "execution_count": 26,
   "id": "0cd74667",
   "metadata": {},
   "outputs": [
    {
     "data": {
      "text/html": [
       "<div>\n",
       "<style scoped>\n",
       "    .dataframe tbody tr th:only-of-type {\n",
       "        vertical-align: middle;\n",
       "    }\n",
       "\n",
       "    .dataframe tbody tr th {\n",
       "        vertical-align: top;\n",
       "    }\n",
       "\n",
       "    .dataframe thead th {\n",
       "        text-align: right;\n",
       "    }\n",
       "</style>\n",
       "<table border=\"1\" class=\"dataframe\">\n",
       "  <thead>\n",
       "    <tr style=\"text-align: right;\">\n",
       "      <th></th>\n",
       "      <th>fit_time</th>\n",
       "      <th>score_time</th>\n",
       "      <th>test_accuracy</th>\n",
       "      <th>test_precision</th>\n",
       "      <th>test_recall</th>\n",
       "      <th>test_f1</th>\n",
       "      <th>test_roc_auc</th>\n",
       "    </tr>\n",
       "  </thead>\n",
       "  <tbody>\n",
       "    <tr>\n",
       "      <th>0</th>\n",
       "      <td>0.475574</td>\n",
       "      <td>0.047445</td>\n",
       "      <td>0.830391</td>\n",
       "      <td>0.834473</td>\n",
       "      <td>0.655209</td>\n",
       "      <td>0.734055</td>\n",
       "      <td>0.900724</td>\n",
       "    </tr>\n",
       "    <tr>\n",
       "      <th>1</th>\n",
       "      <td>0.475574</td>\n",
       "      <td>0.047445</td>\n",
       "      <td>0.825720</td>\n",
       "      <td>0.835211</td>\n",
       "      <td>0.637634</td>\n",
       "      <td>0.723171</td>\n",
       "      <td>0.889974</td>\n",
       "    </tr>\n",
       "    <tr>\n",
       "      <th>2</th>\n",
       "      <td>0.475574</td>\n",
       "      <td>0.047445</td>\n",
       "      <td>0.826104</td>\n",
       "      <td>0.840228</td>\n",
       "      <td>0.633333</td>\n",
       "      <td>0.722256</td>\n",
       "      <td>0.893528</td>\n",
       "    </tr>\n",
       "  </tbody>\n",
       "</table>\n",
       "</div>"
      ],
      "text/plain": [
       "   fit_time  score_time  test_accuracy  test_precision  test_recall   test_f1  \\\n",
       "0  0.475574    0.047445       0.830391        0.834473     0.655209  0.734055   \n",
       "1  0.475574    0.047445       0.825720        0.835211     0.637634  0.723171   \n",
       "2  0.475574    0.047445       0.826104        0.840228     0.633333  0.722256   \n",
       "\n",
       "   test_roc_auc  \n",
       "0      0.900724  \n",
       "1      0.889974  \n",
       "2      0.893528  "
      ]
     },
     "execution_count": 26,
     "metadata": {},
     "output_type": "execute_result"
    }
   ],
   "source": [
    "# Criando o pipeline de dados adequado para a Regressão Logística (e para demais modelos lineares)\n",
    "\n",
    "from sklearn.linear_model import LogisticRegression\n",
    "\n",
    "lr_model_pipe = Pipeline(steps = [\n",
    "    (\"numeric_imputer\", MeanMedianImputer(variables=num_vars, imputation_method = 'median')),           # Usando a mediana para dados numéricos faltantes \n",
    "    (\"categoric_imputer\", CategoricalImputer(variables=cat_vars, fill_value = \"na\")),                   # Atribuindo o valor \"na\" para as variáveis categóricas faltantes\n",
    "    (\"numeric_scaler\", SklearnTransformerWrapper(variables=num_vars, transformer = StandardScaler())),  # Padronizando as variáveis numéricas para terem média 0 e variância 1\n",
    "    (\"one_hot_encoder\", OneHotEncoder(variables=cat_vars)),                                             # Utilizando o OneHotEncoder para transformar as variáveis categóricas em variáveis binárias\n",
    "    (\"algoritmo\", LogisticRegression(random_state=42))                                                  # Definindo o algoritmo a ser aplicado\n",
    "])\n",
    "\n",
    "\n",
    "# Para o treinamento (ajuste) do algoritmo, vamos usar a técnica de validação cruzada estratificada em 3 folds\n",
    "\n",
    "from sklearn.model_selection import StratifiedKFold\n",
    "from sklearn.model_selection import cross_validate\n",
    "\n",
    "skf = StratifiedKFold(n_splits=3, shuffle=True, random_state=42)\n",
    "\n",
    "results = cross_validate(estimator = lr_model_pipe, X=X_train[features], y=y_train, scoring=['accuracy', 'precision', 'recall', 'f1', 'roc_auc'], cv=skf , n_jobs=-1)\n",
    "\n",
    "# Abaixo os resultados em cada um dos folds\n",
    "df_results = pd.DataFrame(results)\n",
    "df_results"
   ]
  },
  {
   "cell_type": "markdown",
   "id": "43d54b74",
   "metadata": {},
   "source": [
    "Treinando o modelo final:"
   ]
  },
  {
   "cell_type": "code",
   "execution_count": 27,
   "id": "a4c6b68d",
   "metadata": {},
   "outputs": [],
   "source": [
    "lr_model_pipe.fit(X_train, y_train);"
   ]
  },
  {
   "cell_type": "markdown",
   "id": "00895d6f",
   "metadata": {},
   "source": [
    "**Observando as métricas de classificação:**"
   ]
  },
  {
   "cell_type": "markdown",
   "id": "ef99a9a4",
   "metadata": {},
   "source": [
    "Matriz de Confusão nos dados de treino:"
   ]
  },
  {
   "cell_type": "code",
   "execution_count": 28,
   "id": "ab40483d",
   "metadata": {},
   "outputs": [
    {
     "data": {
      "image/png": "[encoded data removed]",
      "text/plain": [
       "<Figure size 640x480 with 2 Axes>"
      ]
     },
     "metadata": {},
     "output_type": "display_data"
    }
   ],
   "source": [
    "from sklearn.metrics import ConfusionMatrixDisplay\n",
    "ConfusionMatrixDisplay.from_estimator(estimator= lr_model_pipe, X=X_train, y=y_train, normalize='true');"
   ]
  },
  {
   "cell_type": "markdown",
   "id": "277509d6",
   "metadata": {},
   "source": [
    "Matriz de Confusão nos dados Out Of Time:"
   ]
  },
  {
   "cell_type": "code",
   "execution_count": 29,
   "id": "069b3583",
   "metadata": {},
   "outputs": [
    {
     "data": {
      "image/png": "[encoded data removed]",
      "text/plain": [
       "<Figure size 640x480 with 2 Axes>"
      ]
     },
     "metadata": {},
     "output_type": "display_data"
    }
   ],
   "source": [
    "ConfusionMatrixDisplay.from_estimator(estimator= lr_model_pipe, X=X_oot, y=y_oot, normalize='true');"
   ]
  },
  {
   "cell_type": "markdown",
   "id": "2f3ab71d",
   "metadata": {},
   "source": [
    "É importante notar que o _recall_ está baixo tanto nos dados de treinamento quanto nos dados de teste. Isso significa que o modelo de regressão logística está tendo dificuldade de detectar o fenômeno que está sendo modelado. Mais de 30% dos casos de \"churn\" _(True label = 1)_ está sendo erroneamente classificado como \"não churn\" _(Predicted label = 0)_. \n",
    "\n",
    "Pensando na aplicação do modelo, seria interessante ter um modelo que informasse a probabilidade do vendedor não realizar uma venda. Isso daria à Olist a vantagem de decidir como atuar (selecionar os 10% mais propensos, ou os 500 vendedores mais propensos, ou todos que tiverem probabilidade maior que 70%...), podendo calibrar os gastos com cupons.\n",
    "\n",
    "Além disso, no nosso problema, tanto a precisão nas predições quanto a capacidade de detecção do modelo são importantes. Logo, parece apropriado avaliar os modelos pela área sob a curva ROC, conhecida como **ROC AUC**, que é uma métrica que combina precision e recall.\n",
    "\n",
    "Além disso,  a ROC AUC é uma métrica calculada sobre a probabilidade (probabilidade do vendedor não realizar uma venda), que independe do ponto de corte (threshold) adotado.\n"
   ]
  },
  {
   "cell_type": "markdown",
   "id": "0af756a4",
   "metadata": {},
   "source": [
    "ROC AUC"
   ]
  },
  {
   "cell_type": "code",
   "execution_count": 30,
   "id": "14a392bd",
   "metadata": {},
   "outputs": [
    {
     "data": {
      "image/png": "[encoded data removed]",
      "text/plain": [
       "<Figure size 640x480 with 1 Axes>"
      ]
     },
     "metadata": {},
     "output_type": "display_data"
    }
   ],
   "source": [
    "from sklearn.metrics import RocCurveDisplay\n",
    "\n",
    "RocCurveDisplay.from_estimator(lr_model_pipe, X_oot, y_oot, name= 'lr_model');"
   ]
  },
  {
   "cell_type": "markdown",
   "id": "abee206b",
   "metadata": {},
   "source": [
    "Abaixo, vamos automatizar um resumo das principais métricas de classificação, que facilitará a avaliação e seleção de algoritmos:"
   ]
  },
  {
   "cell_type": "code",
   "execution_count": 31,
   "id": "e4c032bd",
   "metadata": {
    "scrolled": false
   },
   "outputs": [
    {
     "data": {
      "text/html": [
       "<div>\n",
       "<style scoped>\n",
       "    .dataframe tbody tr th:only-of-type {\n",
       "        vertical-align: middle;\n",
       "    }\n",
       "\n",
       "    .dataframe tbody tr th {\n",
       "        vertical-align: top;\n",
       "    }\n",
       "\n",
       "    .dataframe thead th {\n",
       "        text-align: right;\n",
       "    }\n",
       "</style>\n",
       "<table border=\"1\" class=\"dataframe\">\n",
       "  <thead>\n",
       "    <tr style=\"text-align: right;\">\n",
       "      <th></th>\n",
       "      <th>modelo</th>\n",
       "      <th>dados</th>\n",
       "      <th>accuracy</th>\n",
       "      <th>precision</th>\n",
       "      <th>recall</th>\n",
       "      <th>f1_score</th>\n",
       "      <th>roc_auc</th>\n",
       "    </tr>\n",
       "  </thead>\n",
       "  <tbody>\n",
       "    <tr>\n",
       "      <th>0</th>\n",
       "      <td>Logistic Regression</td>\n",
       "      <td>treino</td>\n",
       "      <td>0.828301</td>\n",
       "      <td>0.837134</td>\n",
       "      <td>0.644572</td>\n",
       "      <td>0.728340</td>\n",
       "      <td>0.89645</td>\n",
       "    </tr>\n",
       "    <tr>\n",
       "      <th>1</th>\n",
       "      <td>Logistic Regression</td>\n",
       "      <td>oot</td>\n",
       "      <td>0.821238</td>\n",
       "      <td>0.832759</td>\n",
       "      <td>0.669903</td>\n",
       "      <td>0.742506</td>\n",
       "      <td>0.89603</td>\n",
       "    </tr>\n",
       "  </tbody>\n",
       "</table>\n",
       "</div>"
      ],
      "text/plain": [
       "                modelo   dados  accuracy  precision    recall  f1_score  \\\n",
       "0  Logistic Regression  treino  0.828301   0.837134  0.644572  0.728340   \n",
       "1  Logistic Regression     oot  0.821238   0.832759  0.669903  0.742506   \n",
       "\n",
       "   roc_auc  \n",
       "0  0.89645  \n",
       "1  0.89603  "
      ]
     },
     "execution_count": 31,
     "metadata": {},
     "output_type": "execute_result"
    }
   ],
   "source": [
    "from sklearn.metrics import accuracy_score, balanced_accuracy_score, precision_score, recall_score, f1_score, roc_auc_score\n",
    "\n",
    "metricas = {\n",
    "    'modelo': ['Logistic Regression', 'Logistic Regression'],\n",
    "    'dados': ['treino', 'oot'],\n",
    "    'accuracy': [accuracy_score(y_train, lr_model_pipe.predict(X_train)), accuracy_score(y_oot, lr_model_pipe.predict(X_oot))],\n",
    "    'precision': [precision_score(y_train, lr_model_pipe.predict(X_train)), precision_score(y_oot, lr_model_pipe.predict(X_oot))],\n",
    "    'recall': [recall_score(y_train, lr_model_pipe.predict(X_train)), recall_score(y_oot, lr_model_pipe.predict(X_oot))],\n",
    "    'f1_score': [f1_score(y_train, lr_model_pipe.predict(X_train)), f1_score(y_oot, lr_model_pipe.predict(X_oot))],\n",
    "    'roc_auc': [roc_auc_score(y_train, lr_model_pipe.predict_proba(X_train)[:,1]), roc_auc_score(y_oot, lr_model_pipe.predict_proba(X_oot)[:,1])]\n",
    "\n",
    "}\n",
    "\n",
    "pd.DataFrame(metricas)"
   ]
  },
  {
   "cell_type": "markdown",
   "id": "a9d33bd5",
   "metadata": {},
   "source": [
    "### 6.5 Treinando e comparando vários algoritmos para selecionar o melhor modelo"
   ]
  },
  {
   "cell_type": "markdown",
   "id": "18de5305",
   "metadata": {},
   "source": [
    "Assim como fizemos para o modelo de regressão logística, vamos criar e automatizar pipelines de dados para os demais algoritmos que serão treinados:"
   ]
  },
  {
   "cell_type": "code",
   "execution_count": 32,
   "id": "51a2cde9",
   "metadata": {},
   "outputs": [],
   "source": [
    "# Garantindo que o as partes aleatórias sejam passíveis de reprodução\n",
    "random_state = 42\n",
    "\n",
    "# Modelos lineares\n",
    "\n",
    "lin_models = [\n",
    "    ('Logistic_Regression', LogisticRegression(random_state=random_state)),\n",
    "    ('SVM', SVC (random_state=random_state))\n",
    "]\n",
    "\n",
    "steps_lin_models = [\n",
    "    ('numeric_imputer', MeanMedianImputer(variables=num_vars, imputation_method='median')),\n",
    "    ('numeric_scaler', SklearnTransformerWrapper(variables=num_vars, transformer=StandardScaler())),\n",
    "    ('categoric_imputer', CategoricalImputer(variables=cat_vars, fill_value='na')),\n",
    "    ('one_hot_encoder', OneHotEncoder(variables=cat_vars))\n",
    "]\n",
    "\n",
    "# Modelos de árvores\n",
    "\n",
    "tree_models =[\n",
    "    ('decision_tree', DecisionTreeClassifier(random_state=random_state)),\n",
    "    ('random_forest', RandomForestClassifier(random_state=random_state)),\n",
    "    ('gradient_boost', GradientBoostingClassifier(random_state=random_state)),\n",
    "    ('xgb', XGBClassifier(random_state=random_state)),\n",
    "    ('lgbm', LGBMClassifier(random_state=random_state)),\n",
    "    ('catboost', CatBoostClassifier(random_state=random_state, allow_writing_files=False))\n",
    "]\n",
    "\n",
    "steps_tree_models = [\n",
    "    ('numeric_imputer', MeanMedianImputer(variables=num_vars, imputation_method='median')),\n",
    "    ('categoric_imputer', CategoricalImputer(variables=cat_vars, fill_value='na')), \n",
    "    ('one_hot_encoder', OneHotEncoder(variables=cat_vars))\n",
    "]\n",
    "\n",
    "df_results = pd.DataFrame(columns=['accuracy', 'precision', 'recall', 'f1', 'roc_auc'])\n"
   ]
  },
  {
   "cell_type": "markdown",
   "id": "4a6c778b",
   "metadata": {},
   "source": [
    "Para realizar o treinamento de todos os modelos de forma mais automática, criaremos uma função que prepara os dados utilizando os pipelines criados anteriormente e retorna as métricas de cada algoritmo."
   ]
  },
  {
   "cell_type": "code",
   "execution_count": 33,
   "id": "63b62630",
   "metadata": {},
   "outputs": [],
   "source": [
    "def model_training (model, steps, X_train, y_train, cv, random_state, n_jobs=-1):\n",
    "    pipeline = Pipeline(steps=steps + [model])\n",
    "    result_cv = cross_validate(estimator=pipeline, X=X_train, y=y_train, \n",
    "                               scoring=['accuracy', 'precision', 'recall', 'f1', 'roc_auc'], cv=cv, n_jobs=n_jobs)\n",
    "    df_temp = pd.DataFrame(result_cv)\n",
    "    df_cv = df_temp.mean()\n",
    "    \n",
    "    return [\n",
    "        df_cv.loc['test_accuracy'],\n",
    "        df_cv.loc['test_precision'],\n",
    "        df_cv.loc['test_recall'],\n",
    "        df_cv.loc['test_f1'],\n",
    "        df_cv.loc['test_roc_auc']\n",
    "    ]"
   ]
  },
  {
   "cell_type": "code",
   "execution_count": 34,
   "id": "acf23ded",
   "metadata": {},
   "outputs": [
    {
     "name": "stdout",
     "output_type": "stream",
     "text": [
      "Treinando Logistic_Regression ... OK\n",
      "Treinando SVM ... OK\n",
      "Treinando decision_tree ... OK\n",
      "Treinando random_forest ... OK\n",
      "Treinando gradient_boost ... OK\n",
      "Treinando xgb ... OK\n",
      "Treinando lgbm ... OK\n",
      "Treinando catboost ... OK\n"
     ]
    }
   ],
   "source": [
    "skf = StratifiedKFold(n_splits=5, shuffle=True, random_state=random_state)\n",
    "\n",
    "for model in lin_models:       # model é uma tupla, onde o primeiro elemento é o nome do modelo e o segundo elemento é o algoritmo\n",
    "    model_name = model[0]\n",
    "    print(f'Treinando {model_name} ...', end=' ')\n",
    "    aux = model_training(model, steps_lin_models, X_train, y_train, skf, random_state)  #aplica a funçao model_training\n",
    "    df_results.loc[model_name] = aux\n",
    "    print('OK')\n",
    "\n",
    "for model in tree_models:\n",
    "    model_name = model[0]\n",
    "    print(f'Treinando {model_name} ...', end=' ')\n",
    "    aux = model_training(model, steps_tree_models, X_train, y_train, skf, random_state) # a única diferença é o step do pipeline\n",
    "    df_results.loc[model_name] = aux\n",
    "    print('OK')"
   ]
  },
  {
   "cell_type": "code",
   "execution_count": 35,
   "id": "7de85c86",
   "metadata": {
    "scrolled": true
   },
   "outputs": [
    {
     "data": {
      "text/html": [
       "<div>\n",
       "<style scoped>\n",
       "    .dataframe tbody tr th:only-of-type {\n",
       "        vertical-align: middle;\n",
       "    }\n",
       "\n",
       "    .dataframe tbody tr th {\n",
       "        vertical-align: top;\n",
       "    }\n",
       "\n",
       "    .dataframe thead th {\n",
       "        text-align: right;\n",
       "    }\n",
       "</style>\n",
       "<table border=\"1\" class=\"dataframe\">\n",
       "  <thead>\n",
       "    <tr style=\"text-align: right;\">\n",
       "      <th></th>\n",
       "      <th>accuracy</th>\n",
       "      <th>precision</th>\n",
       "      <th>recall</th>\n",
       "      <th>f1</th>\n",
       "      <th>roc_auc</th>\n",
       "    </tr>\n",
       "  </thead>\n",
       "  <tbody>\n",
       "    <tr>\n",
       "      <th>xgb</th>\n",
       "      <td>0.870906</td>\n",
       "      <td>0.839967</td>\n",
       "      <td>0.788966</td>\n",
       "      <td>0.813601</td>\n",
       "      <td>0.933215</td>\n",
       "    </tr>\n",
       "    <tr>\n",
       "      <th>catboost</th>\n",
       "      <td>0.852993</td>\n",
       "      <td>0.822275</td>\n",
       "      <td>0.750986</td>\n",
       "      <td>0.784914</td>\n",
       "      <td>0.921290</td>\n",
       "    </tr>\n",
       "    <tr>\n",
       "      <th>random_forest</th>\n",
       "      <td>0.854784</td>\n",
       "      <td>0.829855</td>\n",
       "      <td>0.746681</td>\n",
       "      <td>0.785949</td>\n",
       "      <td>0.920666</td>\n",
       "    </tr>\n",
       "    <tr>\n",
       "      <th>lgbm</th>\n",
       "      <td>0.850307</td>\n",
       "      <td>0.819271</td>\n",
       "      <td>0.745611</td>\n",
       "      <td>0.780590</td>\n",
       "      <td>0.918320</td>\n",
       "    </tr>\n",
       "    <tr>\n",
       "      <th>gradient_boost</th>\n",
       "      <td>0.838536</td>\n",
       "      <td>0.802422</td>\n",
       "      <td>0.726980</td>\n",
       "      <td>0.762753</td>\n",
       "      <td>0.908054</td>\n",
       "    </tr>\n",
       "    <tr>\n",
       "      <th>Logistic_Regression</th>\n",
       "      <td>0.827149</td>\n",
       "      <td>0.835396</td>\n",
       "      <td>0.642774</td>\n",
       "      <td>0.726422</td>\n",
       "      <td>0.894439</td>\n",
       "    </tr>\n",
       "    <tr>\n",
       "      <th>SVM</th>\n",
       "      <td>0.831627</td>\n",
       "      <td>0.829665</td>\n",
       "      <td>0.664992</td>\n",
       "      <td>0.738194</td>\n",
       "      <td>0.889676</td>\n",
       "    </tr>\n",
       "    <tr>\n",
       "      <th>decision_tree</th>\n",
       "      <td>0.769700</td>\n",
       "      <td>0.676701</td>\n",
       "      <td>0.680751</td>\n",
       "      <td>0.678641</td>\n",
       "      <td>0.749865</td>\n",
       "    </tr>\n",
       "  </tbody>\n",
       "</table>\n",
       "</div>"
      ],
      "text/plain": [
       "                     accuracy  precision    recall        f1   roc_auc\n",
       "xgb                  0.870906   0.839967  0.788966  0.813601  0.933215\n",
       "catboost             0.852993   0.822275  0.750986  0.784914  0.921290\n",
       "random_forest        0.854784   0.829855  0.746681  0.785949  0.920666\n",
       "lgbm                 0.850307   0.819271  0.745611  0.780590  0.918320\n",
       "gradient_boost       0.838536   0.802422  0.726980  0.762753  0.908054\n",
       "Logistic_Regression  0.827149   0.835396  0.642774  0.726422  0.894439\n",
       "SVM                  0.831627   0.829665  0.664992  0.738194  0.889676\n",
       "decision_tree        0.769700   0.676701  0.680751  0.678641  0.749865"
      ]
     },
     "execution_count": 35,
     "metadata": {},
     "output_type": "execute_result"
    }
   ],
   "source": [
    "df_results.sort_values(by='roc_auc', ascending=False)"
   ]
  },
  {
   "cell_type": "markdown",
   "id": "4c6e3443",
   "metadata": {},
   "source": [
    "Vemos que o algoritmo com melhor performance em validação cruzada foi o **XGBoost**. \n",
    "\n",
    "Agora, treinaremos esse modelo no conjunto de dados de treinamento e realizaremos as previsões na base de validação (OOT)."
   ]
  },
  {
   "cell_type": "code",
   "execution_count": 36,
   "id": "161bc64c",
   "metadata": {},
   "outputs": [],
   "source": [
    "best_model = Pipeline(steps=steps_tree_models + [tree_models[3]])   # Selecionando o xgboost\n",
    "best_model.fit(X_train, y_train);"
   ]
  },
  {
   "cell_type": "markdown",
   "id": "bb5961b4",
   "metadata": {},
   "source": [
    "Para realizar as predições, vamos usar o método **predict_proba**. \n",
    "\n",
    "No nosso caso, o output do predict_proba é um ARRAY com 2 colunas: \n",
    "\n",
    "- 1ª coluna: probabilidade do vendedor pertencer à classe 0 (\"não churn\")\n",
    "- 2ª coluna: probabilidade do vendedor pertencer à classe 1 (\"churn\").\n",
    "\n",
    "Logo, o y predito corresponde à segunda coluna do array. Por isso o slice [:,1]"
   ]
  },
  {
   "cell_type": "code",
   "execution_count": 37,
   "id": "0addce38",
   "metadata": {},
   "outputs": [],
   "source": [
    "y_proba_oot = best_model.predict_proba(X_oot)[:,1]"
   ]
  },
  {
   "cell_type": "markdown",
   "id": "ff740e18",
   "metadata": {},
   "source": [
    "Calculando a ROC AUC nos dados Out of Time:"
   ]
  },
  {
   "cell_type": "code",
   "execution_count": 85,
   "id": "a70ef1ff",
   "metadata": {},
   "outputs": [
    {
     "name": "stdout",
     "output_type": "stream",
     "text": [
      "RoC-AUC: 0.9228\n"
     ]
    }
   ],
   "source": [
    "roc_auc_oot = roc_auc_score(y_oot, y_proba_oot)\n",
    "print(f'RoC-AUC: {roc_auc_oot:.4f}')"
   ]
  },
  {
   "cell_type": "code",
   "execution_count": 39,
   "id": "f7a55a47",
   "metadata": {},
   "outputs": [
    {
     "data": {
      "image/png": "[encoded data removed]",
      "text/plain": [
       "<Figure size 640x480 with 1 Axes>"
      ]
     },
     "metadata": {},
     "output_type": "display_data"
    }
   ],
   "source": [
    "RocCurveDisplay.from_predictions(y_true=y_oot, y_pred= y_proba_oot, name= 'xgb');"
   ]
  },
  {
   "cell_type": "markdown",
   "id": "db110715",
   "metadata": {},
   "source": [
    "**O modelo apresenta uma ROC AUC de 92% nos dados de validação Out of Time.**\n",
    "\n",
    "Isso significa que o modelo possui uma boa capacidade de ordenação. \n",
    "Ou seja, a capacidade do modelo de atribuir _scores_ de churn está adequada.\n",
    "\n",
    "Em outras palavras: Um vendedor que não realizará uma venda (pertence a classe positiva) tem 92% de chance de receber uma probabilidade de churn maior do que um vendedor que realizará uma venda (pertence à classe negativa).\n"
   ]
  },
  {
   "cell_type": "markdown",
   "id": "4e7806a9",
   "metadata": {},
   "source": [
    "## 7. Aperfeiçoamento do Modelo"
   ]
  },
  {
   "cell_type": "markdown",
   "id": "85a1855d",
   "metadata": {},
   "source": [
    "Uma vez encontrado um algoritmo que se parece se adequar de forma satisfatória ao nosso conjunto de dados, vamos buscar melhorar a performance do algoritmo, através de hiperparâmetros.\n",
    "\n",
    "No caso do Xgboost, podemos trabalhar com alguns hiperparâmetros principais:\n",
    "\n",
    "* **learning_rate:** Taxa de aprendizagem _(eta)_. Esse fator determina o avanço a cada etapa de aprendizado do modelo. Quanto menor a learning rate, maior o tempo de processamento e mais árvores serão necessárias para convergir. Varia entre 0 e 1.\n",
    "* **n_estimators:** Quantidade de árvores na Random Forest.\n",
    "* **max_depth:** Profundidade da árvore. Vai aumentando até que cada folha atinja o valor mínimo de amostras estabelecido no parâmetro min_samples_split.\n",
    "* **colsample_bytree:** Indica a fração de atributos usados por rodada.\n",
    "* **subsample:** Indica a fração das amostras usadas a cada rodada."
   ]
  },
  {
   "cell_type": "code",
   "execution_count": 91,
   "id": "970084e8",
   "metadata": {
    "scrolled": true
   },
   "outputs": [
    {
     "name": "stdout",
     "output_type": "stream",
     "text": [
      "Fitting 5 folds for each of 32 candidates, totalling 160 fits\n",
      "\n",
      "====================================================================================================\n",
      "{'xgb__colsample_bytree': 0.5, 'xgb__learning_rate': 0.1, 'xgb__max_depth': 20, 'xgb__n_estimators': 400, 'xgb__subsample': 0.7}\n",
      "====================================================================================================\n",
      "\n"
     ]
    }
   ],
   "source": [
    "pipeline = Pipeline(steps=steps_tree_models + [tree_models[3]])   # Composto pelo steps_tree_models + XGBoost\n",
    "\n",
    "params = {\n",
    "    'xgb__learning_rate': [0.05, 0.1],\n",
    "    'xgb__n_estimators': [400, 500],\n",
    "    'xgb__max_depth': [15, 20],\n",
    "    'xgb__colsample_bytree': [0.5, 0.6],\n",
    "    'xgb__subsample': [0.7, 0.9],\n",
    "}\n",
    "\n",
    "\n",
    "grid_search = GridSearchCV(pipeline, params, scoring='roc_auc', cv=5, n_jobs=-1, verbose=1)\n",
    "grid_search.fit(X_train, y_train)\n",
    "\n",
    "print()\n",
    "print('='*100)\n",
    "print(grid_search.best_params_)\n",
    "print('='*100)\n",
    "print()"
   ]
  },
  {
   "cell_type": "code",
   "execution_count": 92,
   "id": "d433148a",
   "metadata": {},
   "outputs": [],
   "source": [
    "# Cria o modelo final, após encontrar os melhores hiperparâmetros\n",
    "\n",
    "modelo_grid = [('xgb_final', XGBClassifier(random_state = random_state,  \n",
    "                                           colsample_bytree = 0.5, \n",
    "                                           learning_rate = 0.1, \n",
    "                                           max_depth = 20, \n",
    "                                           n_estimators = 400, \n",
    "                                           subsample= 0.7 ))]"
   ]
  },
  {
   "cell_type": "code",
   "execution_count": 93,
   "id": "baeefec8",
   "metadata": {},
   "outputs": [],
   "source": [
    "modelo_final = Pipeline(steps=steps_tree_models + modelo_grid) "
   ]
  },
  {
   "cell_type": "code",
   "execution_count": 94,
   "id": "fc8ab151",
   "metadata": {},
   "outputs": [
    {
     "name": "stdout",
     "output_type": "stream",
     "text": [
      "Treinando xgb_final ... OK\n"
     ]
    },
    {
     "data": {
      "text/html": [
       "<div>\n",
       "<style scoped>\n",
       "    .dataframe tbody tr th:only-of-type {\n",
       "        vertical-align: middle;\n",
       "    }\n",
       "\n",
       "    .dataframe tbody tr th {\n",
       "        vertical-align: top;\n",
       "    }\n",
       "\n",
       "    .dataframe thead th {\n",
       "        text-align: right;\n",
       "    }\n",
       "</style>\n",
       "<table border=\"1\" class=\"dataframe\">\n",
       "  <thead>\n",
       "    <tr style=\"text-align: right;\">\n",
       "      <th></th>\n",
       "      <th>accuracy</th>\n",
       "      <th>precision</th>\n",
       "      <th>recall</th>\n",
       "      <th>f1</th>\n",
       "      <th>roc_auc</th>\n",
       "    </tr>\n",
       "  </thead>\n",
       "  <tbody>\n",
       "    <tr>\n",
       "      <th>xgb_final</th>\n",
       "      <td>0.892401</td>\n",
       "      <td>0.867616</td>\n",
       "      <td>0.824442</td>\n",
       "      <td>0.845439</td>\n",
       "      <td>0.949430</td>\n",
       "    </tr>\n",
       "    <tr>\n",
       "      <th>xgb</th>\n",
       "      <td>0.870906</td>\n",
       "      <td>0.839967</td>\n",
       "      <td>0.788966</td>\n",
       "      <td>0.813601</td>\n",
       "      <td>0.933215</td>\n",
       "    </tr>\n",
       "    <tr>\n",
       "      <th>catboost</th>\n",
       "      <td>0.852993</td>\n",
       "      <td>0.822275</td>\n",
       "      <td>0.750986</td>\n",
       "      <td>0.784914</td>\n",
       "      <td>0.921290</td>\n",
       "    </tr>\n",
       "    <tr>\n",
       "      <th>random_forest</th>\n",
       "      <td>0.854784</td>\n",
       "      <td>0.829855</td>\n",
       "      <td>0.746681</td>\n",
       "      <td>0.785949</td>\n",
       "      <td>0.920666</td>\n",
       "    </tr>\n",
       "    <tr>\n",
       "      <th>lgbm</th>\n",
       "      <td>0.850307</td>\n",
       "      <td>0.819271</td>\n",
       "      <td>0.745611</td>\n",
       "      <td>0.780590</td>\n",
       "      <td>0.918320</td>\n",
       "    </tr>\n",
       "    <tr>\n",
       "      <th>gradient_boost</th>\n",
       "      <td>0.838536</td>\n",
       "      <td>0.802422</td>\n",
       "      <td>0.726980</td>\n",
       "      <td>0.762753</td>\n",
       "      <td>0.908054</td>\n",
       "    </tr>\n",
       "    <tr>\n",
       "      <th>Logistic_Regression</th>\n",
       "      <td>0.827149</td>\n",
       "      <td>0.835396</td>\n",
       "      <td>0.642774</td>\n",
       "      <td>0.726422</td>\n",
       "      <td>0.894439</td>\n",
       "    </tr>\n",
       "    <tr>\n",
       "      <th>SVM</th>\n",
       "      <td>0.831627</td>\n",
       "      <td>0.829665</td>\n",
       "      <td>0.664992</td>\n",
       "      <td>0.738194</td>\n",
       "      <td>0.889676</td>\n",
       "    </tr>\n",
       "    <tr>\n",
       "      <th>decision_tree</th>\n",
       "      <td>0.769700</td>\n",
       "      <td>0.676701</td>\n",
       "      <td>0.680751</td>\n",
       "      <td>0.678641</td>\n",
       "      <td>0.749865</td>\n",
       "    </tr>\n",
       "  </tbody>\n",
       "</table>\n",
       "</div>"
      ],
      "text/plain": [
       "                     accuracy  precision    recall        f1   roc_auc\n",
       "xgb_final            0.892401   0.867616  0.824442  0.845439  0.949430\n",
       "xgb                  0.870906   0.839967  0.788966  0.813601  0.933215\n",
       "catboost             0.852993   0.822275  0.750986  0.784914  0.921290\n",
       "random_forest        0.854784   0.829855  0.746681  0.785949  0.920666\n",
       "lgbm                 0.850307   0.819271  0.745611  0.780590  0.918320\n",
       "gradient_boost       0.838536   0.802422  0.726980  0.762753  0.908054\n",
       "Logistic_Regression  0.827149   0.835396  0.642774  0.726422  0.894439\n",
       "SVM                  0.831627   0.829665  0.664992  0.738194  0.889676\n",
       "decision_tree        0.769700   0.676701  0.680751  0.678641  0.749865"
      ]
     },
     "execution_count": 94,
     "metadata": {},
     "output_type": "execute_result"
    }
   ],
   "source": [
    "# Treina o modelo final nos dados de treinamento\n",
    "\n",
    "skf = StratifiedKFold(n_splits=5, shuffle=True, random_state=random_state)\n",
    "\n",
    "for model in modelo_grid:       # model é uma tupla, onde o primeiro elemento é o nome do modelo e o segundo elemento é o algoritmo\n",
    "    model_name = model[0]\n",
    "    print(f'Treinando {model_name} ...', end=' ')\n",
    "    aux = model_training(model, steps_tree_models, X_train, y_train, skf, random_state) # a única diferença é o step do pipeline\n",
    "    df_results.loc[model_name] = aux\n",
    "    print('OK')\n",
    "\n",
    "df_results.sort_values(by='roc_auc', ascending=False)"
   ]
  },
  {
   "cell_type": "markdown",
   "id": "8d72967e",
   "metadata": {},
   "source": [
    "Podemos ver que os ajustes de hiperparâmetros melhoraram consideravelmente a performance do modelo. Tanto a ROC AUC, que adotamos como métrica do nosso problema, quanto todas as métricas comumente usadas para problemas de classificação ficaram acima dos algoritmos treinados anteriormente."
   ]
  },
  {
   "cell_type": "markdown",
   "id": "ef05b4a3",
   "metadata": {},
   "source": [
    "Agora vamos treinar o modelo final no conjunto de dados de treinamento:"
   ]
  },
  {
   "cell_type": "code",
   "execution_count": 95,
   "id": "a2793dd6",
   "metadata": {},
   "outputs": [],
   "source": [
    "modelo_final.fit(X_train, y_train);"
   ]
  },
  {
   "cell_type": "markdown",
   "id": "3dace9fb",
   "metadata": {},
   "source": [
    "Realizar as predições com o novo modelo:"
   ]
  },
  {
   "cell_type": "code",
   "execution_count": 96,
   "id": "175369f3",
   "metadata": {},
   "outputs": [],
   "source": [
    "# Realiza as predições com o modelo final\n",
    "\n",
    "y_proba_oot_fim = modelo_final.predict_proba(X_oot)[:,1]"
   ]
  },
  {
   "cell_type": "markdown",
   "id": "34bab1aa",
   "metadata": {},
   "source": [
    "E extrair as métricas do modelo final:"
   ]
  },
  {
   "cell_type": "code",
   "execution_count": 104,
   "id": "99408c89",
   "metadata": {},
   "outputs": [
    {
     "data": {
      "text/html": [
       "<div>\n",
       "<style scoped>\n",
       "    .dataframe tbody tr th:only-of-type {\n",
       "        vertical-align: middle;\n",
       "    }\n",
       "\n",
       "    .dataframe tbody tr th {\n",
       "        vertical-align: top;\n",
       "    }\n",
       "\n",
       "    .dataframe thead th {\n",
       "        text-align: right;\n",
       "    }\n",
       "</style>\n",
       "<table border=\"1\" class=\"dataframe\">\n",
       "  <thead>\n",
       "    <tr style=\"text-align: right;\">\n",
       "      <th></th>\n",
       "      <th>modelo</th>\n",
       "      <th>dados</th>\n",
       "      <th>accuracy</th>\n",
       "      <th>precision</th>\n",
       "      <th>recall</th>\n",
       "      <th>f1_score</th>\n",
       "      <th>roc_auc</th>\n",
       "    </tr>\n",
       "  </thead>\n",
       "  <tbody>\n",
       "    <tr>\n",
       "      <th>0</th>\n",
       "      <td>xgb_final</td>\n",
       "      <td>oot</td>\n",
       "      <td>0.870331</td>\n",
       "      <td>0.848397</td>\n",
       "      <td>0.807212</td>\n",
       "      <td>0.827292</td>\n",
       "      <td>0.925425</td>\n",
       "    </tr>\n",
       "  </tbody>\n",
       "</table>\n",
       "</div>"
      ],
      "text/plain": [
       "      modelo dados  accuracy  precision    recall  f1_score   roc_auc\n",
       "0  xgb_final   oot  0.870331   0.848397  0.807212  0.827292  0.925425"
      ]
     },
     "execution_count": 104,
     "metadata": {},
     "output_type": "execute_result"
    }
   ],
   "source": [
    "metricas_final = {\n",
    "    'modelo': ['xgb_final'],\n",
    "    'dados': ['oot'],\n",
    "    'accuracy': [accuracy_score(y_oot, modelo_final.predict(X_oot))],\n",
    "    'precision': [precision_score(y_oot, modelo_final.predict(X_oot))],\n",
    "    'recall': [recall_score(y_oot, modelo_final.predict(X_oot))],\n",
    "    'f1_score': [f1_score(y_oot, modelo_final.predict(X_oot))],\n",
    "    'roc_auc': [roc_auc_score(y_oot, modelo_final.predict_proba(X_oot)[:,1])]\n",
    "\n",
    "}\n",
    "\n",
    "pd.DataFrame(metricas_final)"
   ]
  },
  {
   "cell_type": "code",
   "execution_count": 98,
   "id": "4f50d473",
   "metadata": {},
   "outputs": [
    {
     "name": "stdout",
     "output_type": "stream",
     "text": [
      "ROC-AUC: 0.9254\n"
     ]
    }
   ],
   "source": [
    "# Calcula a ROC AUC do modelo final nos dados Out Of Time\n",
    "roc_auc_oot_fim = roc_auc_score(y_oot, y_proba_oot_fim)\n",
    "print(f'ROC-AUC: {roc_auc_oot_fim:.4f}')"
   ]
  },
  {
   "cell_type": "code",
   "execution_count": 99,
   "id": "1b4a8b0d",
   "metadata": {},
   "outputs": [
    {
     "data": {
      "image/png": "[encoded data removed]",
      "text/plain": [
       "<Figure size 640x480 with 1 Axes>"
      ]
     },
     "metadata": {},
     "output_type": "display_data"
    }
   ],
   "source": [
    "# Plota a ROC AUC do modelo final nos dados Out Of Time\n",
    "RocCurveDisplay.from_predictions(y_true=y_oot, y_pred= y_proba_oot_fim, name= 'xgb_final');"
   ]
  },
  {
   "cell_type": "markdown",
   "id": "35f03467",
   "metadata": {},
   "source": [
    "Agora temos um modelo ainda melhor, com uma ROC AUC de 0.93 nos dados de teste (out of time)."
   ]
  },
  {
   "cell_type": "markdown",
   "id": "55ec7afa",
   "metadata": {},
   "source": [
    "## 8. Apresentação da Solução"
   ]
  },
  {
   "cell_type": "markdown",
   "id": "24f42fa4",
   "metadata": {},
   "source": [
    "**Para ouvintes técnicos, como CRM e times de Dados:**\n",
    "\n",
    "Temos aqui um modelo de classificação de churn (o vendedor irá ou não realizar uma venda nos próximos 6 meses).\n",
    "O algoritmo de machine learning que melhor se ajusta ao problema é o XGBoost, um algoritmo ensemble baseado em árvores que, como o nome sugere, é otimizado através de gradient boosting.\n",
    "\n",
    "Os modelos foram avaliados nas principais métricas para problemas de classificação, e foi escolhido o modelo que possuía maior área sob a curva ROC, dado que a aplicação do modelo pelo time de Negócio requer um bom nível de ordenação.\n",
    "\n",
    "O modelo foi construído na visão de safras. Para treinamento, foi utilizada validação cruzada em dados de 5 safras, e os dados de teste eram compostos por uma safra \"nova\" (out of time), que o modelo não conhecia.\n",
    "\n",
    "Abaixo um resumo da performance do modelo, em dados de teste (oot):\n",
    "- ROC AUC: 0,93;\n",
    "- Precision: 0,85\n",
    "- Recall: 0,81\n",
    "- F1 Score: 0,83    "
   ]
  },
  {
   "cell_type": "markdown",
   "id": "0ea0bdfe",
   "metadata": {},
   "source": [
    "**Para ouvintes não técnicos, como áreas de Negócios:**\n",
    "\n",
    "Temos aqui um modelo capaz de prever se o **vendedor irá ou não realizar uma venda nos próximos 6 meses** _(churn)_.  \n",
    "\n",
    "O modelo apresentado possui uma precisão de mais de 86%.  \n",
    "Isso significa que, para cada 100 vendedores que o modelo aponta que não vão vender, pelo menos 86 realmente não vão.\n",
    "\n",
    "O modelo também detecta mais de 82% dos casos de churn.  \n",
    "Em outras palavras: de 100 vendedores que não vão realizar uma venda, o modelo é capaz de detectar pelo menos 82.\n",
    "    \n",
    "Além disso, esse modelo consegue ordenar os vendedores mais propensos a não realizarem uma venda, com uma assertividade de 93%.  \n",
    "Isso implica que, caso seja viável para o Negócio, **é possível extrair uma lista com os \"top vendedores mais propensos a não realizarem uma venda\"**, para direcionar os gastos com cupons apenas no público-alvo mais crítico.  \n",
    "_Ex: Atuar nos 100 vendedores mais propensos a não realizar nenhuma venda._\n",
    "\n",
    "Outro ponto de versatilidade desse modelo, é que ele retorna a probabilidade do vendedor não realizar uma venda. \n",
    "Isso empodera a área de Negócio, que pode definir o **ponto de corte para realizar alguma ação**, calibrando os gastos com cupom.  \n",
    "_Ex: Atuar apenas nos vendedores com mais de 70% de chance de não realizar uma venda._\n",
    "    "
   ]
  },
  {
   "cell_type": "markdown",
   "id": "5ecac8f6",
   "metadata": {},
   "source": [
    "## 9. Implementação e Monitoramento"
   ]
  },
  {
   "cell_type": "markdown",
   "id": "6af40f93",
   "metadata": {},
   "source": [
    "### 9.1 Implementação"
   ]
  },
  {
   "cell_type": "markdown",
   "id": "d7aad637",
   "metadata": {},
   "source": [
    "Depois de todo o desenvolvimento, o modelo será salvo e posteriormente, disponibilizado em um arquivo único, para que seja colocado em produção."
   ]
  },
  {
   "cell_type": "markdown",
   "id": "15e0f9f2",
   "metadata": {},
   "source": [
    "Primeiro, salvaremos o modelo final em um arquivo .pkl:"
   ]
  },
  {
   "cell_type": "code",
   "execution_count": 107,
   "id": "f02c638e",
   "metadata": {},
   "outputs": [],
   "source": [
    "with open('olist_churn_xgb.pkl', 'wb') as file_w:\n",
    "    pickle.dump(modelo_final, file_w)"
   ]
  },
  {
   "cell_type": "markdown",
   "id": "aaddb3c4",
   "metadata": {},
   "source": [
    "Agora, o modelo pode ser carregado facilmente, para que seja feito o _deploy_:"
   ]
  },
  {
   "cell_type": "code",
   "execution_count": 108,
   "id": "497e7d3f",
   "metadata": {},
   "outputs": [
    {
     "data": {
      "text/plain": [
       "Pipeline(steps=[('numeric_imputer',\n",
       "                 MeanMedianImputer(variables=['tot_orders_12m', 'tot_items_12m',\n",
       "                                              'tot_items_dist_12m',\n",
       "                                              'receita_12m', 'recencia'])),\n",
       "                ('categoric_imputer',\n",
       "                 CategoricalImputer(fill_value='na', variables=['uf'])),\n",
       "                ('one_hot_encoder', OneHotEncoder(variables=['uf'])),\n",
       "                ('xgb_final',\n",
       "                 XGBClassifier(base_score=None, booster=None, callbacks=None,\n",
       "                               colsam...\n",
       "                               feature_types=None, gamma=None, gpu_id=None,\n",
       "                               grow_policy=None, importance_type=None,\n",
       "                               interaction_constraints=None, learning_rate=0.1,\n",
       "                               max_bin=None, max_cat_threshold=None,\n",
       "                               max_cat_to_onehot=None, max_delta_step=None,\n",
       "                               max_depth=20, max_leaves=None,\n",
       "                               min_child_weight=None, missing=nan,\n",
       "                               monotone_constraints=None, n_estimators=400,\n",
       "                               n_jobs=None, num_parallel_tree=None,\n",
       "                               predictor=None, random_state=42, ...))])"
      ]
     },
     "execution_count": 108,
     "metadata": {},
     "output_type": "execute_result"
    }
   ],
   "source": [
    "with open('olist_churn_xgb.pkl', 'rb') as file_r:\n",
    "    modelo_xgb = pickle.load(file_r)\n",
    "\n",
    "modelo_xgb"
   ]
  },
  {
   "cell_type": "markdown",
   "id": "6230be2c",
   "metadata": {},
   "source": [
    "### 9.2 Monitoramento"
   ]
  },
  {
   "cell_type": "markdown",
   "id": "fe0020f6",
   "metadata": {},
   "source": [
    "Aqui não cabe simular o monitoramento do modelo. \n",
    "\n",
    "Mas, como é um modelo para prever um **comportamento**, baseado em safras, é importante **monitorar se o perfil dos vendedores muda ao longo do tempo.**  \n",
    "\n",
    "Uma forma simples de detectar essa mudança é avaliar se as **distribuições(ou as medidas de dispersão)** das variáveis usadas no modelo estão se alterando com o passar do tempo (safras).  \n",
    "\n",
    "Se isso for verificado, pode ser necessário **retreinar o modelo com novas safras e avaliar o resultado.** Dessa forma, o modelo se mantém atualizado.  \n",
    "\n",
    "No caso de mudanças mais extremas, pode ser necessário construir um novo modelo, que se adeque melhor aos novos dados."
   ]
  },
  {
   "cell_type": "markdown",
   "id": "cc058380",
   "metadata": {},
   "source": [
    "# <center> Fim </center>"
   ]
  }
 ],
 "metadata": {
  "kernelspec": {
   "display_name": "ds1",
   "language": "python",
   "name": "ds1"
  },
  "language_info": {
   "codemirror_mode": {
    "name": "ipython",
    "version": 3
   },
   "file_extension": ".py",
   "mimetype": "text/x-python",
   "name": "python",
   "nbconvert_exporter": "python",
   "pygments_lexer": "ipython3",
   "version": "3.9.13"
  }
 },
 "nbformat": 4,
 "nbformat_minor": 5
}
